{
 "cells": [
  {
   "cell_type": "code",
   "execution_count": 1,
   "id": "00ce15dd",
   "metadata": {},
   "outputs": [],
   "source": [
    "# Importing libraries\n",
    "\n",
    "import pandas as pd\n",
    "import numpy as np\n",
    "import os\n",
    "from datetime import datetime\n",
    "import matplotlib.pyplot as plt\n",
    "import seaborn as sns\n",
    "from sklearn.model_selection import train_test_split\n",
    "from sklearn.linear_model import LinearRegression\n",
    "from sklearn.metrics import confusion_matrix, accuracy_score\n",
    "from sklearn.metrics import mean_squared_error, r2_score"
   ]
  },
  {
   "cell_type": "code",
   "execution_count": 2,
   "id": "e7be52bd",
   "metadata": {},
   "outputs": [
    {
     "data": {
      "text/html": [
       "<div>\n",
       "<style scoped>\n",
       "    .dataframe tbody tr th:only-of-type {\n",
       "        vertical-align: middle;\n",
       "    }\n",
       "\n",
       "    .dataframe tbody tr th {\n",
       "        vertical-align: top;\n",
       "    }\n",
       "\n",
       "    .dataframe thead th {\n",
       "        text-align: right;\n",
       "    }\n",
       "</style>\n",
       "<table border=\"1\" class=\"dataframe\">\n",
       "  <thead>\n",
       "    <tr style=\"text-align: right;\">\n",
       "      <th></th>\n",
       "      <th>Date</th>\n",
       "      <th>Stock_Name</th>\n",
       "      <th>Volume</th>\n",
       "      <th>Close in $</th>\n",
       "      <th>Open in $</th>\n",
       "      <th>High in $</th>\n",
       "      <th>Low in $</th>\n",
       "    </tr>\n",
       "  </thead>\n",
       "  <tbody>\n",
       "    <tr>\n",
       "      <th>0</th>\n",
       "      <td>2015-01-02</td>\n",
       "      <td>Amazon</td>\n",
       "      <td>55664000</td>\n",
       "      <td>15.4260</td>\n",
       "      <td>15.6290</td>\n",
       "      <td>15.7375</td>\n",
       "      <td>15.3480</td>\n",
       "    </tr>\n",
       "    <tr>\n",
       "      <th>1</th>\n",
       "      <td>2015-01-05</td>\n",
       "      <td>Amazon</td>\n",
       "      <td>55484000</td>\n",
       "      <td>15.1095</td>\n",
       "      <td>15.3505</td>\n",
       "      <td>15.4190</td>\n",
       "      <td>15.0425</td>\n",
       "    </tr>\n",
       "    <tr>\n",
       "      <th>2</th>\n",
       "      <td>2015-01-06</td>\n",
       "      <td>Amazon</td>\n",
       "      <td>70380000</td>\n",
       "      <td>14.7645</td>\n",
       "      <td>15.1120</td>\n",
       "      <td>15.1500</td>\n",
       "      <td>14.6190</td>\n",
       "    </tr>\n",
       "    <tr>\n",
       "      <th>3</th>\n",
       "      <td>2015-01-07</td>\n",
       "      <td>Amazon</td>\n",
       "      <td>52806000</td>\n",
       "      <td>14.9210</td>\n",
       "      <td>14.8750</td>\n",
       "      <td>15.0640</td>\n",
       "      <td>14.7665</td>\n",
       "    </tr>\n",
       "    <tr>\n",
       "      <th>4</th>\n",
       "      <td>2015-01-08</td>\n",
       "      <td>Amazon</td>\n",
       "      <td>61768000</td>\n",
       "      <td>15.0230</td>\n",
       "      <td>15.0160</td>\n",
       "      <td>15.1570</td>\n",
       "      <td>14.8055</td>\n",
       "    </tr>\n",
       "    <tr>\n",
       "      <th>...</th>\n",
       "      <td>...</td>\n",
       "      <td>...</td>\n",
       "      <td>...</td>\n",
       "      <td>...</td>\n",
       "      <td>...</td>\n",
       "      <td>...</td>\n",
       "      <td>...</td>\n",
       "    </tr>\n",
       "    <tr>\n",
       "      <th>15091</th>\n",
       "      <td>2024-12-24</td>\n",
       "      <td>Tesla</td>\n",
       "      <td>59551800</td>\n",
       "      <td>462.2800</td>\n",
       "      <td>435.9000</td>\n",
       "      <td>462.7800</td>\n",
       "      <td>435.1400</td>\n",
       "    </tr>\n",
       "    <tr>\n",
       "      <th>15092</th>\n",
       "      <td>2024-12-26</td>\n",
       "      <td>Tesla</td>\n",
       "      <td>76366400</td>\n",
       "      <td>454.1300</td>\n",
       "      <td>465.1600</td>\n",
       "      <td>465.3300</td>\n",
       "      <td>451.0200</td>\n",
       "    </tr>\n",
       "    <tr>\n",
       "      <th>15093</th>\n",
       "      <td>2024-12-27</td>\n",
       "      <td>Tesla</td>\n",
       "      <td>82666800</td>\n",
       "      <td>431.6600</td>\n",
       "      <td>449.5200</td>\n",
       "      <td>450.0000</td>\n",
       "      <td>426.5000</td>\n",
       "    </tr>\n",
       "    <tr>\n",
       "      <th>15094</th>\n",
       "      <td>2024-12-30</td>\n",
       "      <td>Tesla</td>\n",
       "      <td>64941000</td>\n",
       "      <td>417.4100</td>\n",
       "      <td>419.4000</td>\n",
       "      <td>427.0000</td>\n",
       "      <td>415.7500</td>\n",
       "    </tr>\n",
       "    <tr>\n",
       "      <th>15095</th>\n",
       "      <td>2024-12-31</td>\n",
       "      <td>Tesla</td>\n",
       "      <td>76825100</td>\n",
       "      <td>403.8400</td>\n",
       "      <td>423.7900</td>\n",
       "      <td>427.9300</td>\n",
       "      <td>402.5400</td>\n",
       "    </tr>\n",
       "  </tbody>\n",
       "</table>\n",
       "<p>15096 rows × 7 columns</p>\n",
       "</div>"
      ],
      "text/plain": [
       "             Date Stock_Name    Volume  Close in $  Open in $  High in $  \\\n",
       "0      2015-01-02     Amazon  55664000     15.4260    15.6290    15.7375   \n",
       "1      2015-01-05     Amazon  55484000     15.1095    15.3505    15.4190   \n",
       "2      2015-01-06     Amazon  70380000     14.7645    15.1120    15.1500   \n",
       "3      2015-01-07     Amazon  52806000     14.9210    14.8750    15.0640   \n",
       "4      2015-01-08     Amazon  61768000     15.0230    15.0160    15.1570   \n",
       "...           ...        ...       ...         ...        ...        ...   \n",
       "15091  2024-12-24      Tesla  59551800    462.2800   435.9000   462.7800   \n",
       "15092  2024-12-26      Tesla  76366400    454.1300   465.1600   465.3300   \n",
       "15093  2024-12-27      Tesla  82666800    431.6600   449.5200   450.0000   \n",
       "15094  2024-12-30      Tesla  64941000    417.4100   419.4000   427.0000   \n",
       "15095  2024-12-31      Tesla  76825100    403.8400   423.7900   427.9300   \n",
       "\n",
       "       Low in $  \n",
       "0       15.3480  \n",
       "1       15.0425  \n",
       "2       14.6190  \n",
       "3       14.7665  \n",
       "4       14.8055  \n",
       "...         ...  \n",
       "15091  435.1400  \n",
       "15092  451.0200  \n",
       "15093  426.5000  \n",
       "15094  415.7500  \n",
       "15095  402.5400  \n",
       "\n",
       "[15096 rows x 7 columns]"
      ]
     },
     "execution_count": 2,
     "metadata": {},
     "output_type": "execute_result"
    }
   ],
   "source": [
    "path = r'/Users/matthewabrams/Desktop/Stocks Data/'\n",
    "stocks = pd.read_csv(os.path.join(path, 'Stock Datasets/New Files/6_Stocks_Transformed.csv'), index_col = False)\n",
    "stocks.drop(columns =['Unnamed: 0', 'MA_Six_Months', 'MA_One_Year'], inplace = True)\n",
    "stocks"
   ]
  },
  {
   "cell_type": "code",
   "execution_count": 3,
   "id": "df6303ad",
   "metadata": {},
   "outputs": [
    {
     "data": {
      "image/png": "[encoded data removed]",
      "text/plain": [
       "<Figure size 864x432 with 2 Axes>"
      ]
     },
     "metadata": {
      "needs_background": "light"
     },
     "output_type": "display_data"
    }
   ],
   "source": [
    "# Heat Map for Visualization Correlations\n",
    "\n",
    "plt.figure(figsize=(12,6))\n",
    "sns.heatmap(stocks.corr(),cmap = 'Reds', annot = True)\n",
    "plt.show()"
   ]
  },
  {
   "cell_type": "code",
   "execution_count": 4,
   "id": "e0cc71e3",
   "metadata": {},
   "outputs": [],
   "source": [
    "# Splitting the dataset 80% training and 20% testing\n",
    "X = stocks[['Volume', 'Open in $', 'High in $', 'Low in $']].values\n",
    "y = stocks['Close in $'].values"
   ]
  },
  {
   "cell_type": "code",
   "execution_count": 5,
   "id": "f55a1761",
   "metadata": {},
   "outputs": [],
   "source": [
    "X_train, X_test, y_train, y_test = train_test_split(X, y, test_size = 0.2, random_state = 0)"
   ]
  },
  {
   "cell_type": "code",
   "execution_count": 6,
   "id": "509e584c",
   "metadata": {},
   "outputs": [],
   "source": [
    "# Creating regression model\n",
    "regressor = LinearRegression()\n",
    "\n",
    "# Fit linear regression model\n",
    "model = regressor.fit(X_train, y_train)\n",
    "\n",
    "# Use model to make prediction\n",
    "y_pred = regressor.predict(X_test)"
   ]
  },
  {
   "cell_type": "code",
   "execution_count": 7,
   "id": "f6d198f2",
   "metadata": {},
   "outputs": [
    {
     "name": "stdout",
     "output_type": "stream",
     "text": [
      "      Actual_Price  Predicted_Price\n",
      "0         460.1200       464.537342\n",
      "1          30.2650        30.400635\n",
      "2          44.9600        45.104638\n",
      "3          94.3730        94.623203\n",
      "4          21.8473        22.463867\n",
      "...            ...              ...\n",
      "3015      203.9000       202.721840\n",
      "3016      505.5200       503.246138\n",
      "3017      271.8700       273.105539\n",
      "3018      168.8400       168.732314\n",
      "3019       62.1400        62.245401\n",
      "\n",
      "[3020 rows x 2 columns]\n"
     ]
    }
   ],
   "source": [
    "# With the test predictions complete, next step is to compare them (table of Actual Prices vs Predicted Prices)\n",
    "# With the actual output values for X_test by organizing them in a dataframeformat\n",
    "\n",
    "predicted = regressor.predict(X_test)\n",
    "dframe = pd.DataFrame(y_test,predicted)\n",
    "dfr = pd.DataFrame({'Actual_Price':y_test,'Predicted_Price':predicted})\n",
    "print(dfr)"
   ]
  },
  {
   "cell_type": "code",
   "execution_count": 8,
   "id": "516611b4",
   "metadata": {},
   "outputs": [
    {
     "data": {
      "text/plain": [
       "<matplotlib.legend.Legend at 0x7fbed8cc1eb0>"
      ]
     },
     "execution_count": 8,
     "metadata": {},
     "output_type": "execute_result"
    },
    {
     "data": {
      "image/png": "[encoded data removed]",
      "text/plain": [
       "<Figure size 576x576 with 1 Axes>"
      ]
     },
     "metadata": {
      "needs_background": "light"
     },
     "output_type": "display_data"
    }
   ],
   "source": [
    "plt.figure(figsize = (8,8))\n",
    "plt.ylabel('Closing Price Per Share')\n",
    "plt.plot(dfr.head(15))\n",
    "plt.legend(['Actual_Price', 'Predicted_Price'])"
   ]
  },
  {
   "cell_type": "code",
   "execution_count": 9,
   "id": "777533f7",
   "metadata": {},
   "outputs": [
    {
     "data": {
      "text/plain": [
       "<AxesSubplot:>"
      ]
     },
     "execution_count": 9,
     "metadata": {},
     "output_type": "execute_result"
    },
    {
     "data": {
      "image/png": "[encoded data removed]",
      "text/plain": [
       "<Figure size 432x288 with 1 Axes>"
      ]
     },
     "metadata": {
      "needs_background": "light"
     },
     "output_type": "display_data"
    }
   ],
   "source": [
    "# Graph first 15 values\n",
    "\n",
    "graph = dfr.head(15)\n",
    "graph.plot(kind = 'bar')"
   ]
  },
  {
   "cell_type": "code",
   "execution_count": 10,
   "id": "88217180",
   "metadata": {},
   "outputs": [],
   "source": [
    "# The predicted prices are extremely close to the actual prices"
   ]
  },
  {
   "cell_type": "code",
   "execution_count": 11,
   "id": "e18248e1",
   "metadata": {},
   "outputs": [],
   "source": [
    "# Extreme Value Checks"
   ]
  },
  {
   "cell_type": "code",
   "execution_count": 12,
   "id": "e95f7113",
   "metadata": {},
   "outputs": [
    {
     "data": {
      "text/plain": [
       "176.53533192898794"
      ]
     },
     "execution_count": 12,
     "metadata": {},
     "output_type": "execute_result"
    }
   ],
   "source": [
    "stocks['Close in $'].mean()"
   ]
  },
  {
   "cell_type": "code",
   "execution_count": 13,
   "id": "1f94b7a6",
   "metadata": {},
   "outputs": [
    {
     "data": {
      "text/plain": [
       "146.96241625340735"
      ]
     },
     "execution_count": 13,
     "metadata": {},
     "output_type": "execute_result"
    }
   ],
   "source": [
    "stocks['Close in $'].std()"
   ]
  },
  {
   "cell_type": "code",
   "execution_count": 14,
   "id": "343fd2da",
   "metadata": {},
   "outputs": [
    {
     "data": {
      "text/plain": [
       "470.46016443580265"
      ]
     },
     "execution_count": 14,
     "metadata": {},
     "output_type": "execute_result"
    }
   ],
   "source": [
    "# Determining upper limit for outliers that are 2 standard deviations of the mean\n",
    "\n",
    "upper_limit_1 = stocks['Close in $'].mean() + 2*(stocks['Close in $'].std())\n",
    "upper_limit_1"
   ]
  },
  {
   "cell_type": "code",
   "execution_count": 15,
   "id": "8eac1299",
   "metadata": {},
   "outputs": [
    {
     "data": {
      "text/plain": [
       "-117.38950057782677"
      ]
     },
     "execution_count": 15,
     "metadata": {},
     "output_type": "execute_result"
    }
   ],
   "source": [
    "# Determining lower limit for outliers that are 2 standard deviations of the mean\n",
    "\n",
    "lower_limit_1 = stocks['Close in $'].mean() - 2*(stocks['Close in $'].std())\n",
    "lower_limit_1"
   ]
  },
  {
   "cell_type": "code",
   "execution_count": 16,
   "id": "f89e431c",
   "metadata": {},
   "outputs": [
    {
     "data": {
      "text/plain": [
       "936.56"
      ]
     },
     "execution_count": 16,
     "metadata": {},
     "output_type": "execute_result"
    }
   ],
   "source": [
    "stocks['Close in $'].max()"
   ]
  },
  {
   "cell_type": "code",
   "execution_count": 17,
   "id": "c1d495ea",
   "metadata": {},
   "outputs": [
    {
     "data": {
      "text/plain": [
       "0.9428987811340752"
      ]
     },
     "execution_count": 17,
     "metadata": {},
     "output_type": "execute_result"
    }
   ],
   "source": [
    "# Determing the percentage of values under 'Close/Last in $' column that are not outliers\n",
    "# Dividing the number of values between 0 and upper limit and the total number of observations\n",
    "\n",
    "len(stocks[stocks['Close in $']<upper_limit_1])/len(stocks)"
   ]
  },
  {
   "cell_type": "code",
   "execution_count": 18,
   "id": "430b8ce2",
   "metadata": {},
   "outputs": [],
   "source": [
    "# About 6% of values under Close/Last in $ column are outliers"
   ]
  },
  {
   "cell_type": "code",
   "execution_count": 19,
   "id": "260165af",
   "metadata": {},
   "outputs": [
    {
     "data": {
      "text/plain": [
       "61034213.93746688"
      ]
     },
     "execution_count": 19,
     "metadata": {},
     "output_type": "execute_result"
    }
   ],
   "source": [
    "stocks['Volume'].mean()"
   ]
  },
  {
   "cell_type": "code",
   "execution_count": 20,
   "id": "b74014f0",
   "metadata": {},
   "outputs": [
    {
     "data": {
      "text/plain": [
       "62560077.65000739"
      ]
     },
     "execution_count": 20,
     "metadata": {},
     "output_type": "execute_result"
    }
   ],
   "source": [
    "stocks['Volume'].std()"
   ]
  },
  {
   "cell_type": "code",
   "execution_count": 21,
   "id": "bd901e39",
   "metadata": {},
   "outputs": [
    {
     "data": {
      "text/plain": [
       "186154369.23748165"
      ]
     },
     "execution_count": 21,
     "metadata": {},
     "output_type": "execute_result"
    }
   ],
   "source": [
    "# Determining upper limit for outliers that are 2 standard deviations of the mean\n",
    "\n",
    "upper_limit_2 = stocks['Volume'].mean() + 2*(stocks['Volume'].std())\n",
    "upper_limit_2"
   ]
  },
  {
   "cell_type": "code",
   "execution_count": 22,
   "id": "0c6bedac",
   "metadata": {},
   "outputs": [
    {
     "data": {
      "text/plain": [
       "-64085941.3625479"
      ]
     },
     "execution_count": 22,
     "metadata": {},
     "output_type": "execute_result"
    }
   ],
   "source": [
    "# Determining upper limit for outliers that are 2 standard deviations of the mean\n",
    "\n",
    "lower_limit_2 = stocks['Volume'].mean() - 2*(stocks['Volume'].std())\n",
    "lower_limit_2 "
   ]
  },
  {
   "cell_type": "code",
   "execution_count": 23,
   "id": "c8b4b584",
   "metadata": {},
   "outputs": [
    {
     "data": {
      "text/plain": [
       "914082000"
      ]
     },
     "execution_count": 23,
     "metadata": {},
     "output_type": "execute_result"
    }
   ],
   "source": [
    "stocks['Volume'].max()"
   ]
  },
  {
   "cell_type": "code",
   "execution_count": 24,
   "id": "ccb85b92",
   "metadata": {},
   "outputs": [
    {
     "data": {
      "text/plain": [
       "0.9548224695283519"
      ]
     },
     "execution_count": 24,
     "metadata": {},
     "output_type": "execute_result"
    }
   ],
   "source": [
    "# Determing the percentage of values under Volume column that are not outliers\n",
    "# Dividing the number of values between 0 and upper limit and the total number of observations\n",
    "\n",
    "len(stocks[stocks['Volume']<upper_limit_2])/len(stocks)"
   ]
  },
  {
   "cell_type": "code",
   "execution_count": 25,
   "id": "520f3884",
   "metadata": {},
   "outputs": [],
   "source": [
    "# About 5% of values under Volume in $ column are outliers"
   ]
  },
  {
   "cell_type": "code",
   "execution_count": 26,
   "id": "26c76dd2",
   "metadata": {},
   "outputs": [],
   "source": [
    "# Original Hypothesis: If the closing price is low, more shares are traded"
   ]
  },
  {
   "cell_type": "code",
   "execution_count": 27,
   "id": "afd55886",
   "metadata": {},
   "outputs": [
    {
     "data": {
      "image/png": "[encoded data removed]",
      "text/plain": [
       "<Figure size 432x288 with 1 Axes>"
      ]
     },
     "metadata": {
      "needs_background": "light"
     },
     "output_type": "display_data"
    }
   ],
   "source": [
    "# Create a scatterplot using matplotlib for another look at how the chosen variables plot against each other.\n",
    "\n",
    "stocks.plot(x = 'Volume' , y ='Close in $', style='o') # The style option creates a scatterplot; without it, we only have lines.\n",
    "plt.title('# of Shares Traded vs Closing Price Per Share', fontsize = 10, fontweight = 'bold')  \n",
    "plt.xlabel('Volume', fontsize = 10, fontweight = 'bold')  \n",
    "plt.ylabel('Closing Price', fontsize = 10, fontweight = 'bold')  \n",
    "plt.show()"
   ]
  },
  {
   "cell_type": "code",
   "execution_count": 28,
   "id": "4c917ba8",
   "metadata": {},
   "outputs": [],
   "source": [
    "# Reshape the variables into NumPy arrays and put them into separate objects.\n",
    "\n",
    "X1 = stocks['Volume'].values.reshape(-1,1)\n",
    "y1 = stocks['Close in $'].values.reshape(-1,1)"
   ]
  },
  {
   "cell_type": "code",
   "execution_count": 29,
   "id": "8b193931",
   "metadata": {},
   "outputs": [],
   "source": [
    "# Split data into a training set and a test set.\n",
    "\n",
    "X1_train, X1_test, y1_train, y1_test = train_test_split(X1, y1, test_size=0.2, random_state=0)"
   ]
  },
  {
   "cell_type": "code",
   "execution_count": 30,
   "id": "b8531127",
   "metadata": {},
   "outputs": [
    {
     "data": {
      "text/plain": [
       "LinearRegression()"
      ]
     },
     "execution_count": 30,
     "metadata": {},
     "output_type": "execute_result"
    }
   ],
   "source": [
    "# Create a regression object.\n",
    "\n",
    "regression = LinearRegression()  # This is the regression object, which will be fit onto the training set.\n",
    "\n",
    "# Fit the regression object onto the training set.\n",
    "\n",
    "regression.fit(X1_train, y1_train)"
   ]
  },
  {
   "cell_type": "code",
   "execution_count": 31,
   "id": "5954c750",
   "metadata": {},
   "outputs": [],
   "source": [
    "# Predict the values of y using X.\n",
    "\n",
    "y1_predicted = regression.predict(X1_test)"
   ]
  },
  {
   "cell_type": "code",
   "execution_count": 32,
   "id": "fbff401d",
   "metadata": {},
   "outputs": [
    {
     "data": {
      "image/png": "[encoded data removed]",
      "text/plain": [
       "<Figure size 432x288 with 1 Axes>"
      ]
     },
     "metadata": {
      "needs_background": "light"
     },
     "output_type": "display_data"
    }
   ],
   "source": [
    "# Create a plot that shows the regression line from the model on the test set.\n",
    "\n",
    "plot_test = plt\n",
    "plot_test.scatter(X1_test, y1_test, color= 'gray', s = 15)\n",
    "plot_test.plot(X1_test, y1_predicted, color= 'blue', linewidth = 3)\n",
    "plot_test.title('# of Shares Traded vs Closing Price (Testing Set)', fontsize = 10, fontweight = 'bold')\n",
    "plot_test.xlabel('Volume', fontsize = 10, fontweight = 'bold')\n",
    "x_ticks = np.arange(0, 300, 50)\n",
    "plot_test.ylabel('Closing Price', fontsize = 10, fontweight = 'bold')\n",
    "plot_test.show()"
   ]
  },
  {
   "cell_type": "code",
   "execution_count": 33,
   "id": "52267bb2",
   "metadata": {},
   "outputs": [],
   "source": [
    "# Create objects that contain the model summary statistics.\n",
    "\n",
    "rmse = mean_squared_error(y1_test, y1_predicted).round() # This is the mean squared error\n",
    "r2 = r2_score(y1_test, y1_predicted).round(2) # This is the R2 score. "
   ]
  },
  {
   "cell_type": "code",
   "execution_count": 34,
   "id": "9f9b87a5",
   "metadata": {},
   "outputs": [
    {
     "name": "stdout",
     "output_type": "stream",
     "text": [
      "Slope: [[-0.]]\n",
      "Mean squared error:  18144.0\n",
      "R2 score:  0.18\n"
     ]
    }
   ],
   "source": [
    "# Print the model summary statistics. This is where you evaluate the performance of the model.\n",
    "\n",
    "print('Slope:' ,regression.coef_.round(3))\n",
    "print('Mean squared error: ', rmse)\n",
    "print('R2 score: ', r2)"
   ]
  },
  {
   "cell_type": "code",
   "execution_count": 35,
   "id": "0c881ce1",
   "metadata": {},
   "outputs": [],
   "source": [
    "# Since this linear regression model is about 18% effective for my testing set, it's not the best fit for my data. \n",
    "# This could be due to data bias or not enough data points to produce significant results. \n",
    "# I'll need a model with more dimensionality to be able to predict what would effect the closing price of a stock"
   ]
  },
  {
   "cell_type": "code",
   "execution_count": 36,
   "id": "a99c1333",
   "metadata": {},
   "outputs": [
    {
     "data": {
      "text/html": [
       "<div>\n",
       "<style scoped>\n",
       "    .dataframe tbody tr th:only-of-type {\n",
       "        vertical-align: middle;\n",
       "    }\n",
       "\n",
       "    .dataframe tbody tr th {\n",
       "        vertical-align: top;\n",
       "    }\n",
       "\n",
       "    .dataframe thead th {\n",
       "        text-align: right;\n",
       "    }\n",
       "</style>\n",
       "<table border=\"1\" class=\"dataframe\">\n",
       "  <thead>\n",
       "    <tr style=\"text-align: right;\">\n",
       "      <th></th>\n",
       "      <th>Actual</th>\n",
       "      <th>Predicted</th>\n",
       "    </tr>\n",
       "  </thead>\n",
       "  <tbody>\n",
       "    <tr>\n",
       "      <th>0</th>\n",
       "      <td>460.1200</td>\n",
       "      <td>217.548874</td>\n",
       "    </tr>\n",
       "    <tr>\n",
       "      <th>1</th>\n",
       "      <td>30.2650</td>\n",
       "      <td>102.201955</td>\n",
       "    </tr>\n",
       "    <tr>\n",
       "      <th>2</th>\n",
       "      <td>44.9600</td>\n",
       "      <td>179.718664</td>\n",
       "    </tr>\n",
       "    <tr>\n",
       "      <th>3</th>\n",
       "      <td>94.3730</td>\n",
       "      <td>172.541921</td>\n",
       "    </tr>\n",
       "    <tr>\n",
       "      <th>4</th>\n",
       "      <td>21.8473</td>\n",
       "      <td>-54.236228</td>\n",
       "    </tr>\n",
       "    <tr>\n",
       "      <th>5</th>\n",
       "      <td>22.1400</td>\n",
       "      <td>34.205057</td>\n",
       "    </tr>\n",
       "    <tr>\n",
       "      <th>6</th>\n",
       "      <td>418.0100</td>\n",
       "      <td>213.830176</td>\n",
       "    </tr>\n",
       "    <tr>\n",
       "      <th>7</th>\n",
       "      <td>102.0500</td>\n",
       "      <td>161.757003</td>\n",
       "    </tr>\n",
       "    <tr>\n",
       "      <th>8</th>\n",
       "      <td>291.5600</td>\n",
       "      <td>231.136683</td>\n",
       "    </tr>\n",
       "    <tr>\n",
       "      <th>9</th>\n",
       "      <td>656.3200</td>\n",
       "      <td>236.450708</td>\n",
       "    </tr>\n",
       "    <tr>\n",
       "      <th>10</th>\n",
       "      <td>153.5900</td>\n",
       "      <td>220.521282</td>\n",
       "    </tr>\n",
       "    <tr>\n",
       "      <th>11</th>\n",
       "      <td>16.5653</td>\n",
       "      <td>197.104797</td>\n",
       "    </tr>\n",
       "    <tr>\n",
       "      <th>12</th>\n",
       "      <td>186.0600</td>\n",
       "      <td>195.187958</td>\n",
       "    </tr>\n",
       "    <tr>\n",
       "      <th>13</th>\n",
       "      <td>135.4500</td>\n",
       "      <td>150.144924</td>\n",
       "    </tr>\n",
       "    <tr>\n",
       "      <th>14</th>\n",
       "      <td>213.0200</td>\n",
       "      <td>208.669494</td>\n",
       "    </tr>\n",
       "    <tr>\n",
       "      <th>15</th>\n",
       "      <td>19.1830</td>\n",
       "      <td>171.677228</td>\n",
       "    </tr>\n",
       "    <tr>\n",
       "      <th>16</th>\n",
       "      <td>15.9920</td>\n",
       "      <td>168.115813</td>\n",
       "    </tr>\n",
       "    <tr>\n",
       "      <th>17</th>\n",
       "      <td>170.5500</td>\n",
       "      <td>187.587577</td>\n",
       "    </tr>\n",
       "    <tr>\n",
       "      <th>18</th>\n",
       "      <td>214.5800</td>\n",
       "      <td>225.643602</td>\n",
       "    </tr>\n",
       "    <tr>\n",
       "      <th>19</th>\n",
       "      <td>314.6600</td>\n",
       "      <td>236.734791</td>\n",
       "    </tr>\n",
       "    <tr>\n",
       "      <th>20</th>\n",
       "      <td>337.9100</td>\n",
       "      <td>216.776767</td>\n",
       "    </tr>\n",
       "    <tr>\n",
       "      <th>21</th>\n",
       "      <td>495.0600</td>\n",
       "      <td>222.967305</td>\n",
       "    </tr>\n",
       "    <tr>\n",
       "      <th>22</th>\n",
       "      <td>133.5800</td>\n",
       "      <td>127.509359</td>\n",
       "    </tr>\n",
       "    <tr>\n",
       "      <th>23</th>\n",
       "      <td>57.3200</td>\n",
       "      <td>136.433425</td>\n",
       "    </tr>\n",
       "    <tr>\n",
       "      <th>24</th>\n",
       "      <td>172.0900</td>\n",
       "      <td>224.817167</td>\n",
       "    </tr>\n",
       "    <tr>\n",
       "      <th>25</th>\n",
       "      <td>240.0200</td>\n",
       "      <td>229.708177</td>\n",
       "    </tr>\n",
       "    <tr>\n",
       "      <th>26</th>\n",
       "      <td>424.7700</td>\n",
       "      <td>131.109654</td>\n",
       "    </tr>\n",
       "    <tr>\n",
       "      <th>27</th>\n",
       "      <td>17.4713</td>\n",
       "      <td>183.468777</td>\n",
       "    </tr>\n",
       "    <tr>\n",
       "      <th>28</th>\n",
       "      <td>18.6685</td>\n",
       "      <td>184.272299</td>\n",
       "    </tr>\n",
       "    <tr>\n",
       "      <th>29</th>\n",
       "      <td>41.7885</td>\n",
       "      <td>177.054083</td>\n",
       "    </tr>\n",
       "  </tbody>\n",
       "</table>\n",
       "</div>"
      ],
      "text/plain": [
       "      Actual   Predicted\n",
       "0   460.1200  217.548874\n",
       "1    30.2650  102.201955\n",
       "2    44.9600  179.718664\n",
       "3    94.3730  172.541921\n",
       "4    21.8473  -54.236228\n",
       "5    22.1400   34.205057\n",
       "6   418.0100  213.830176\n",
       "7   102.0500  161.757003\n",
       "8   291.5600  231.136683\n",
       "9   656.3200  236.450708\n",
       "10  153.5900  220.521282\n",
       "11   16.5653  197.104797\n",
       "12  186.0600  195.187958\n",
       "13  135.4500  150.144924\n",
       "14  213.0200  208.669494\n",
       "15   19.1830  171.677228\n",
       "16   15.9920  168.115813\n",
       "17  170.5500  187.587577\n",
       "18  214.5800  225.643602\n",
       "19  314.6600  236.734791\n",
       "20  337.9100  216.776767\n",
       "21  495.0600  222.967305\n",
       "22  133.5800  127.509359\n",
       "23   57.3200  136.433425\n",
       "24  172.0900  224.817167\n",
       "25  240.0200  229.708177\n",
       "26  424.7700  131.109654\n",
       "27   17.4713  183.468777\n",
       "28   18.6685  184.272299\n",
       "29   41.7885  177.054083"
      ]
     },
     "execution_count": 36,
     "metadata": {},
     "output_type": "execute_result"
    }
   ],
   "source": [
    "# Create a dataframe comparing the actual and predicted values of y.\n",
    "\n",
    "data = pd.DataFrame({'Actual': y1_test.flatten(), 'Predicted': y1_predicted.flatten()})\n",
    "data.head(30)"
   ]
  },
  {
   "cell_type": "code",
   "execution_count": 37,
   "id": "4a8579b4",
   "metadata": {},
   "outputs": [],
   "source": [
    "# The predicted values are extremely far from the actual values"
   ]
  },
  {
   "cell_type": "code",
   "execution_count": 38,
   "id": "cdedbdca",
   "metadata": {},
   "outputs": [],
   "source": [
    "# Compare how the regression fits the training set\n",
    "y1_predicted_train = regression.predict(X1_train) # This is predicting X_train!"
   ]
  },
  {
   "cell_type": "code",
   "execution_count": 39,
   "id": "89917422",
   "metadata": {},
   "outputs": [],
   "source": [
    "rmse = mean_squared_error(y1_train, y1_predicted_train).round()\n",
    "r2 = r2_score(y1_train, y1_predicted_train).round(2)"
   ]
  },
  {
   "cell_type": "code",
   "execution_count": 40,
   "id": "3e10c235",
   "metadata": {},
   "outputs": [
    {
     "name": "stdout",
     "output_type": "stream",
     "text": [
      "Slope: [[-0.]]\n",
      "Mean squared error:  17308.0\n",
      "R2 score:  0.19\n"
     ]
    }
   ],
   "source": [
    "print('Slope:' ,regression.coef_.round(3))\n",
    "print('Mean squared error: ', rmse)\n",
    "print('R2 score: ', r2)"
   ]
  },
  {
   "cell_type": "code",
   "execution_count": 41,
   "id": "e2043802",
   "metadata": {
    "scrolled": true
   },
   "outputs": [
    {
     "data": {
      "image/png": "[encoded data removed]",
      "text/plain": [
       "<Figure size 432x288 with 1 Axes>"
      ]
     },
     "metadata": {
      "needs_background": "light"
     },
     "output_type": "display_data"
    }
   ],
   "source": [
    "# Visualizing the training set results.\n",
    "\n",
    "plot_test = plt\n",
    "plot_test.scatter(X1_train, y1_train, color='red', s = 15)\n",
    "plot_test.plot(X1_train, y1_predicted_train, color='blue', linewidth =3)\n",
    "plot_test.title('# of Shares Traded vs Closing Price (Training Set)', fontsize = 10, fontweight = 'bold')\n",
    "plot_test.xlabel('Volume', fontsize = 10, fontweight = 'bold')\n",
    "x_ticks = np.arange(0, 300, 50)\n",
    "plot_test.ylabel('Closing Price', fontsize = 10, fontweight = 'bold')\n",
    "plot_test.show()"
   ]
  },
  {
   "cell_type": "code",
   "execution_count": 42,
   "id": "df1cb276",
   "metadata": {},
   "outputs": [],
   "source": [
    "# This linear regression model is about 19% effective for my training set, about same as my testing set"
   ]
  }
 ],
 "metadata": {
  "kernelspec": {
   "display_name": "Python 3 (ipykernel)",
   "language": "python",
   "name": "python3"
  },
  "language_info": {
   "codemirror_mode": {
    "name": "ipython",
    "version": 3
   },
   "file_extension": ".py",
   "mimetype": "text/x-python",
   "name": "python",
   "nbconvert_exporter": "python",
   "pygments_lexer": "ipython3",
   "version": "3.9.7"
  }
 },
 "nbformat": 4,
 "nbformat_minor": 5
}

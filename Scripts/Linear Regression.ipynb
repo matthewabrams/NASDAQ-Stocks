{
 "cells": [
  {
   "cell_type": "code",
   "execution_count": 1,
   "id": "00ce15dd",
   "metadata": {},
   "outputs": [],
   "source": [
    "# Importing libraries\n",
    "\n",
    "import pandas as pd\n",
    "import numpy as np\n",
    "import os\n",
    "from datetime import datetime\n",
    "import matplotlib.pyplot as plt\n",
    "import seaborn as sns\n",
    "from sklearn.model_selection import train_test_split\n",
    "from sklearn.linear_model import LinearRegression\n",
    "from sklearn.metrics import confusion_matrix, accuracy_score\n",
    "from sklearn.metrics import mean_squared_error, r2_score"
   ]
  },
  {
   "cell_type": "code",
   "execution_count": 2,
   "id": "e7be52bd",
   "metadata": {},
   "outputs": [
    {
     "data": {
      "text/html": [
       "<div>\n",
       "<style scoped>\n",
       "    .dataframe tbody tr th:only-of-type {\n",
       "        vertical-align: middle;\n",
       "    }\n",
       "\n",
       "    .dataframe tbody tr th {\n",
       "        vertical-align: top;\n",
       "    }\n",
       "\n",
       "    .dataframe thead th {\n",
       "        text-align: right;\n",
       "    }\n",
       "</style>\n",
       "<table border=\"1\" class=\"dataframe\">\n",
       "  <thead>\n",
       "    <tr style=\"text-align: right;\">\n",
       "      <th></th>\n",
       "      <th>Date</th>\n",
       "      <th>Stock_Name</th>\n",
       "      <th>Volume</th>\n",
       "      <th>Close in $</th>\n",
       "      <th>Open in $</th>\n",
       "      <th>High in $</th>\n",
       "      <th>Low in $</th>\n",
       "    </tr>\n",
       "  </thead>\n",
       "  <tbody>\n",
       "    <tr>\n",
       "      <th>0</th>\n",
       "      <td>1997-05-15</td>\n",
       "      <td>Amazon</td>\n",
       "      <td>1443120000</td>\n",
       "      <td>0.0979</td>\n",
       "      <td>0.1219</td>\n",
       "      <td>0.1250</td>\n",
       "      <td>0.0964</td>\n",
       "    </tr>\n",
       "    <tr>\n",
       "      <th>1</th>\n",
       "      <td>1997-05-16</td>\n",
       "      <td>Amazon</td>\n",
       "      <td>294000000</td>\n",
       "      <td>0.0865</td>\n",
       "      <td>0.0984</td>\n",
       "      <td>0.0990</td>\n",
       "      <td>0.0854</td>\n",
       "    </tr>\n",
       "    <tr>\n",
       "      <th>2</th>\n",
       "      <td>1997-05-19</td>\n",
       "      <td>Amazon</td>\n",
       "      <td>122136000</td>\n",
       "      <td>0.0854</td>\n",
       "      <td>0.0880</td>\n",
       "      <td>0.0885</td>\n",
       "      <td>0.0812</td>\n",
       "    </tr>\n",
       "    <tr>\n",
       "      <th>3</th>\n",
       "      <td>1997-05-20</td>\n",
       "      <td>Amazon</td>\n",
       "      <td>109344000</td>\n",
       "      <td>0.0818</td>\n",
       "      <td>0.0865</td>\n",
       "      <td>0.0875</td>\n",
       "      <td>0.0818</td>\n",
       "    </tr>\n",
       "    <tr>\n",
       "      <th>4</th>\n",
       "      <td>1997-05-21</td>\n",
       "      <td>Amazon</td>\n",
       "      <td>377064000</td>\n",
       "      <td>0.0714</td>\n",
       "      <td>0.0818</td>\n",
       "      <td>0.0823</td>\n",
       "      <td>0.0688</td>\n",
       "    </tr>\n",
       "    <tr>\n",
       "      <th>...</th>\n",
       "      <td>...</td>\n",
       "      <td>...</td>\n",
       "      <td>...</td>\n",
       "      <td>...</td>\n",
       "      <td>...</td>\n",
       "      <td>...</td>\n",
       "      <td>...</td>\n",
       "    </tr>\n",
       "    <tr>\n",
       "      <th>40164</th>\n",
       "      <td>2024-11-08</td>\n",
       "      <td>Tesla</td>\n",
       "      <td>204782800</td>\n",
       "      <td>321.2200</td>\n",
       "      <td>299.1400</td>\n",
       "      <td>328.7100</td>\n",
       "      <td>297.6600</td>\n",
       "    </tr>\n",
       "    <tr>\n",
       "      <th>40165</th>\n",
       "      <td>2024-11-11</td>\n",
       "      <td>Tesla</td>\n",
       "      <td>210521600</td>\n",
       "      <td>350.0000</td>\n",
       "      <td>346.3000</td>\n",
       "      <td>358.6400</td>\n",
       "      <td>336.0000</td>\n",
       "    </tr>\n",
       "    <tr>\n",
       "      <th>40166</th>\n",
       "      <td>2024-11-12</td>\n",
       "      <td>Tesla</td>\n",
       "      <td>155726000</td>\n",
       "      <td>328.4900</td>\n",
       "      <td>342.7400</td>\n",
       "      <td>345.8400</td>\n",
       "      <td>323.3100</td>\n",
       "    </tr>\n",
       "    <tr>\n",
       "      <th>40167</th>\n",
       "      <td>2024-11-13</td>\n",
       "      <td>Tesla</td>\n",
       "      <td>125405600</td>\n",
       "      <td>330.2400</td>\n",
       "      <td>335.8500</td>\n",
       "      <td>344.6000</td>\n",
       "      <td>322.5000</td>\n",
       "    </tr>\n",
       "    <tr>\n",
       "      <th>40168</th>\n",
       "      <td>2024-11-14</td>\n",
       "      <td>Tesla</td>\n",
       "      <td>120726100</td>\n",
       "      <td>311.1800</td>\n",
       "      <td>327.6900</td>\n",
       "      <td>329.9800</td>\n",
       "      <td>310.3700</td>\n",
       "    </tr>\n",
       "  </tbody>\n",
       "</table>\n",
       "<p>40169 rows × 7 columns</p>\n",
       "</div>"
      ],
      "text/plain": [
       "             Date Stock_Name      Volume  Close in $  Open in $  High in $  \\\n",
       "0      1997-05-15     Amazon  1443120000      0.0979     0.1219     0.1250   \n",
       "1      1997-05-16     Amazon   294000000      0.0865     0.0984     0.0990   \n",
       "2      1997-05-19     Amazon   122136000      0.0854     0.0880     0.0885   \n",
       "3      1997-05-20     Amazon   109344000      0.0818     0.0865     0.0875   \n",
       "4      1997-05-21     Amazon   377064000      0.0714     0.0818     0.0823   \n",
       "...           ...        ...         ...         ...        ...        ...   \n",
       "40164  2024-11-08      Tesla   204782800    321.2200   299.1400   328.7100   \n",
       "40165  2024-11-11      Tesla   210521600    350.0000   346.3000   358.6400   \n",
       "40166  2024-11-12      Tesla   155726000    328.4900   342.7400   345.8400   \n",
       "40167  2024-11-13      Tesla   125405600    330.2400   335.8500   344.6000   \n",
       "40168  2024-11-14      Tesla   120726100    311.1800   327.6900   329.9800   \n",
       "\n",
       "       Low in $  \n",
       "0        0.0964  \n",
       "1        0.0854  \n",
       "2        0.0812  \n",
       "3        0.0818  \n",
       "4        0.0688  \n",
       "...         ...  \n",
       "40164  297.6600  \n",
       "40165  336.0000  \n",
       "40166  323.3100  \n",
       "40167  322.5000  \n",
       "40168  310.3700  \n",
       "\n",
       "[40169 rows x 7 columns]"
      ]
     },
     "execution_count": 2,
     "metadata": {},
     "output_type": "execute_result"
    }
   ],
   "source": [
    "path = r'/Users/matthewabrams/Desktop/Stocks Data/'\n",
    "stocks = pd.read_csv(os.path.join(path, 'Stock Datasets/New Files/6_Stocks_Transformed.csv'), index_col = False)\n",
    "stocks.drop(columns =['Unnamed: 0', 'MA_Six_Months', 'MA_One_Year'], inplace = True)\n",
    "stocks"
   ]
  },
  {
   "cell_type": "code",
   "execution_count": 3,
   "id": "df6303ad",
   "metadata": {},
   "outputs": [
    {
     "data": {
      "image/png": "[encoded data removed]",
      "text/plain": [
       "<Figure size 864x432 with 2 Axes>"
      ]
     },
     "metadata": {
      "needs_background": "light"
     },
     "output_type": "display_data"
    }
   ],
   "source": [
    "# Heat Map for Visualization Correlations\n",
    "\n",
    "plt.figure(figsize=(12,6))\n",
    "sns.heatmap(stocks.corr(),cmap = 'Reds', annot = True)\n",
    "plt.show()"
   ]
  },
  {
   "cell_type": "code",
   "execution_count": 4,
   "id": "e0cc71e3",
   "metadata": {},
   "outputs": [],
   "source": [
    "# Splitting the dataset 80% training and 20% testing\n",
    "X = stocks[['Volume', 'Open in $', 'High in $', 'Low in $']].values\n",
    "y = stocks['Close in $'].values"
   ]
  },
  {
   "cell_type": "code",
   "execution_count": 5,
   "id": "f55a1761",
   "metadata": {},
   "outputs": [],
   "source": [
    "X_train, X_test, y_train, y_test = train_test_split(X, y, test_size = 0.2, random_state = 0)"
   ]
  },
  {
   "cell_type": "code",
   "execution_count": 6,
   "id": "509e584c",
   "metadata": {},
   "outputs": [],
   "source": [
    "# Creating regression model\n",
    "regressor = LinearRegression()\n",
    "\n",
    "# Fit linear regression model\n",
    "model = regressor.fit(X_train, y_train)\n",
    "\n",
    "# Use model to make prediction\n",
    "y_pred = regressor.predict(X_test)"
   ]
  },
  {
   "cell_type": "code",
   "execution_count": 7,
   "id": "f6d198f2",
   "metadata": {},
   "outputs": [
    {
     "name": "stdout",
     "output_type": "stream",
     "text": [
      "      Actual_Price  Predicted_Price\n",
      "0          44.0475        44.446664\n",
      "1         332.4300       332.848465\n",
      "2           0.4732         0.474415\n",
      "3         517.9200       519.595284\n",
      "4          26.5900        26.360513\n",
      "...            ...              ...\n",
      "8029        0.5056         0.515987\n",
      "8030        0.3929         0.400635\n",
      "8031       73.3300        73.749304\n",
      "8032       56.5500        56.586649\n",
      "8033        7.1573         7.195089\n",
      "\n",
      "[8034 rows x 2 columns]\n"
     ]
    }
   ],
   "source": [
    "# With the test predictions complete, next step is to compare them (table of Actual Prices vs Predicted Prices)\n",
    "# With the actual output values for X_test by organizing them in a dataframeformat\n",
    "\n",
    "predicted = regressor.predict(X_test)\n",
    "dframe = pd.DataFrame(y_test,predicted)\n",
    "dfr = pd.DataFrame({'Actual_Price':y_test,'Predicted_Price':predicted})\n",
    "print(dfr)"
   ]
  },
  {
   "cell_type": "code",
   "execution_count": 8,
   "id": "516611b4",
   "metadata": {},
   "outputs": [
    {
     "data": {
      "text/plain": [
       "<matplotlib.legend.Legend at 0x7fbbe89a6eb0>"
      ]
     },
     "execution_count": 8,
     "metadata": {},
     "output_type": "execute_result"
    },
    {
     "data": {
      "image/png": "[encoded data removed]",
      "text/plain": [
       "<Figure size 576x576 with 1 Axes>"
      ]
     },
     "metadata": {
      "needs_background": "light"
     },
     "output_type": "display_data"
    }
   ],
   "source": [
    "plt.figure(figsize = (8,8))\n",
    "plt.ylabel('Closing Price Per Share')\n",
    "plt.plot(dfr.head(15))\n",
    "plt.legend(['Actual_Price', 'Predicted_Price'])"
   ]
  },
  {
   "cell_type": "code",
   "execution_count": 9,
   "id": "777533f7",
   "metadata": {},
   "outputs": [
    {
     "data": {
      "text/plain": [
       "<AxesSubplot:>"
      ]
     },
     "execution_count": 9,
     "metadata": {},
     "output_type": "execute_result"
    },
    {
     "data": {
      "image/png": "[encoded data removed]",
      "text/plain": [
       "<Figure size 432x288 with 1 Axes>"
      ]
     },
     "metadata": {
      "needs_background": "light"
     },
     "output_type": "display_data"
    }
   ],
   "source": [
    "# Graph first 15 values\n",
    "\n",
    "graph = dfr.head(15)\n",
    "graph.plot(kind = 'bar')"
   ]
  },
  {
   "cell_type": "code",
   "execution_count": 10,
   "id": "88217180",
   "metadata": {},
   "outputs": [],
   "source": [
    "# The predicted prices are extremely close to the actual prices"
   ]
  },
  {
   "cell_type": "code",
   "execution_count": 11,
   "id": "e18248e1",
   "metadata": {},
   "outputs": [],
   "source": [
    "# Extreme Value Checks"
   ]
  },
  {
   "cell_type": "code",
   "execution_count": 12,
   "id": "e95f7113",
   "metadata": {},
   "outputs": [
    {
     "data": {
      "text/plain": [
       "70.87533921183014"
      ]
     },
     "execution_count": 12,
     "metadata": {},
     "output_type": "execute_result"
    }
   ],
   "source": [
    "stocks['Close in $'].mean()"
   ]
  },
  {
   "cell_type": "code",
   "execution_count": 13,
   "id": "1f94b7a6",
   "metadata": {},
   "outputs": [
    {
     "data": {
      "text/plain": [
       "117.30020271536391"
      ]
     },
     "execution_count": 13,
     "metadata": {},
     "output_type": "execute_result"
    }
   ],
   "source": [
    "stocks['Close in $'].std()"
   ]
  },
  {
   "cell_type": "code",
   "execution_count": 14,
   "id": "343fd2da",
   "metadata": {},
   "outputs": [
    {
     "data": {
      "text/plain": [
       "305.47574464255797"
      ]
     },
     "execution_count": 14,
     "metadata": {},
     "output_type": "execute_result"
    }
   ],
   "source": [
    "# Determining upper limit for outliers that are 2 standard deviations of the mean\n",
    "\n",
    "upper_limit_1 = stocks['Close in $'].mean() + 2*(stocks['Close in $'].std())\n",
    "upper_limit_1"
   ]
  },
  {
   "cell_type": "code",
   "execution_count": 15,
   "id": "8eac1299",
   "metadata": {},
   "outputs": [
    {
     "data": {
      "text/plain": [
       "-163.72506621889767"
      ]
     },
     "execution_count": 15,
     "metadata": {},
     "output_type": "execute_result"
    }
   ],
   "source": [
    "# Determining lower limit for outliers that are 2 standard deviations of the mean\n",
    "\n",
    "lower_limit_1 = stocks['Close in $'].mean() - 2*(stocks['Close in $'].std())\n",
    "lower_limit_1"
   ]
  },
  {
   "cell_type": "code",
   "execution_count": 16,
   "id": "f89e431c",
   "metadata": {},
   "outputs": [
    {
     "data": {
      "text/plain": [
       "837.26"
      ]
     },
     "execution_count": 16,
     "metadata": {},
     "output_type": "execute_result"
    }
   ],
   "source": [
    "stocks['Close in $'].max()"
   ]
  },
  {
   "cell_type": "code",
   "execution_count": 17,
   "id": "c1d495ea",
   "metadata": {},
   "outputs": [
    {
     "data": {
      "text/plain": [
       "0.9391072717767432"
      ]
     },
     "execution_count": 17,
     "metadata": {},
     "output_type": "execute_result"
    }
   ],
   "source": [
    "# Determing the percentage of values under 'Close/Last in $' column that are not outliers\n",
    "# Dividing the number of values between 0 and upper limit and the total number of observations\n",
    "\n",
    "len(stocks[stocks['Close in $']<upper_limit_1])/len(stocks)"
   ]
  },
  {
   "cell_type": "code",
   "execution_count": 18,
   "id": "430b8ce2",
   "metadata": {},
   "outputs": [],
   "source": [
    "# About 6% of values under Close/Last in $ column are outliers"
   ]
  },
  {
   "cell_type": "code",
   "execution_count": 19,
   "id": "260165af",
   "metadata": {},
   "outputs": [
    {
     "data": {
      "text/plain": [
       "137703815.51445144"
      ]
     },
     "execution_count": 19,
     "metadata": {},
     "output_type": "execute_result"
    }
   ],
   "source": [
    "stocks['Volume'].mean()"
   ]
  },
  {
   "cell_type": "code",
   "execution_count": 20,
   "id": "b74014f0",
   "metadata": {},
   "outputs": [
    {
     "data": {
      "text/plain": [
       "220872381.53742522"
      ]
     },
     "execution_count": 20,
     "metadata": {},
     "output_type": "execute_result"
    }
   ],
   "source": [
    "stocks['Volume'].std()"
   ]
  },
  {
   "cell_type": "code",
   "execution_count": 21,
   "id": "bd901e39",
   "metadata": {},
   "outputs": [
    {
     "data": {
      "text/plain": [
       "579448578.5893018"
      ]
     },
     "execution_count": 21,
     "metadata": {},
     "output_type": "execute_result"
    }
   ],
   "source": [
    "# Determining upper limit for outliers that are 2 standard deviations of the mean\n",
    "\n",
    "upper_limit_2 = stocks['Volume'].mean() + 2*(stocks['Volume'].std())\n",
    "upper_limit_2"
   ]
  },
  {
   "cell_type": "code",
   "execution_count": 22,
   "id": "0c6bedac",
   "metadata": {},
   "outputs": [
    {
     "data": {
      "text/plain": [
       "-304040947.560399"
      ]
     },
     "execution_count": 22,
     "metadata": {},
     "output_type": "execute_result"
    }
   ],
   "source": [
    "# Determining upper limit for outliers that are 2 standard deviations of the mean\n",
    "\n",
    "lower_limit_2 = stocks['Volume'].mean() - 2*(stocks['Volume'].std())\n",
    "lower_limit_2 "
   ]
  },
  {
   "cell_type": "code",
   "execution_count": 23,
   "id": "c8b4b584",
   "metadata": {},
   "outputs": [
    {
     "data": {
      "text/plain": [
       "7421640800"
      ]
     },
     "execution_count": 23,
     "metadata": {},
     "output_type": "execute_result"
    }
   ],
   "source": [
    "stocks['Volume'].max()"
   ]
  },
  {
   "cell_type": "code",
   "execution_count": 24,
   "id": "ccb85b92",
   "metadata": {},
   "outputs": [
    {
     "data": {
      "text/plain": [
       "0.9567825935422839"
      ]
     },
     "execution_count": 24,
     "metadata": {},
     "output_type": "execute_result"
    }
   ],
   "source": [
    "# Determing the percentage of values under Volume column that are not outliers\n",
    "# Dividing the number of values between 0 and upper limit and the total number of observations\n",
    "\n",
    "len(stocks[stocks['Volume']<upper_limit_2])/len(stocks)"
   ]
  },
  {
   "cell_type": "code",
   "execution_count": 25,
   "id": "520f3884",
   "metadata": {},
   "outputs": [],
   "source": [
    "# About 4% of values under Volume in $ column are outliers"
   ]
  },
  {
   "cell_type": "code",
   "execution_count": 26,
   "id": "26c76dd2",
   "metadata": {},
   "outputs": [],
   "source": [
    "# Original Hypothesis: If number of shares traded increases, the closing price decreases."
   ]
  },
  {
   "cell_type": "code",
   "execution_count": 27,
   "id": "afd55886",
   "metadata": {},
   "outputs": [
    {
     "data": {
      "image/png": "[encoded data removed]",
      "text/plain": [
       "<Figure size 432x288 with 1 Axes>"
      ]
     },
     "metadata": {
      "needs_background": "light"
     },
     "output_type": "display_data"
    }
   ],
   "source": [
    "# Create a scatterplot using matplotlib for another look at how the chosen variables plot against each other.\n",
    "\n",
    "stocks.plot(x = 'Volume' , y ='Close in $', style='o') # The style option creates a scatterplot; without it, we only have lines.\n",
    "plt.title('# of Shares Traded vs Closing Price Per Share', fontsize = 10, fontweight = 'bold')  \n",
    "plt.xlabel('Volume', fontsize = 10, fontweight = 'bold')  \n",
    "plt.ylabel('Closing Price', fontsize = 10, fontweight = 'bold')  \n",
    "plt.show()"
   ]
  },
  {
   "cell_type": "code",
   "execution_count": 28,
   "id": "4c917ba8",
   "metadata": {},
   "outputs": [],
   "source": [
    "# Reshape the variables into NumPy arrays and put them into separate objects.\n",
    "\n",
    "X1 = stocks['Volume'].values.reshape(-1,1)\n",
    "y1 = stocks['Close in $'].values.reshape(-1,1)"
   ]
  },
  {
   "cell_type": "code",
   "execution_count": 29,
   "id": "8b193931",
   "metadata": {},
   "outputs": [],
   "source": [
    "# Split data into a training set and a test set.\n",
    "\n",
    "X1_train, X1_test, y1_train, y1_test = train_test_split(X1, y1, test_size=0.2, random_state=0)"
   ]
  },
  {
   "cell_type": "code",
   "execution_count": 30,
   "id": "b8531127",
   "metadata": {},
   "outputs": [
    {
     "data": {
      "text/plain": [
       "LinearRegression()"
      ]
     },
     "execution_count": 30,
     "metadata": {},
     "output_type": "execute_result"
    }
   ],
   "source": [
    "# Create a regression object.\n",
    "\n",
    "regression = LinearRegression()  # This is the regression object, which will be fit onto the training set.\n",
    "\n",
    "# Fit the regression object onto the training set.\n",
    "\n",
    "regression.fit(X1_train, y1_train)"
   ]
  },
  {
   "cell_type": "code",
   "execution_count": 31,
   "id": "5954c750",
   "metadata": {},
   "outputs": [],
   "source": [
    "# Predict the values of y using X.\n",
    "\n",
    "y1_predicted = regression.predict(X1_test)"
   ]
  },
  {
   "cell_type": "code",
   "execution_count": 32,
   "id": "fbff401d",
   "metadata": {},
   "outputs": [
    {
     "data": {
      "image/png": "[encoded data removed]",
      "text/plain": [
       "<Figure size 432x288 with 1 Axes>"
      ]
     },
     "metadata": {
      "needs_background": "light"
     },
     "output_type": "display_data"
    }
   ],
   "source": [
    "# Create a plot that shows the regression line from the model on the test set.\n",
    "\n",
    "plot_test = plt\n",
    "plot_test.scatter(X1_test, y1_test, color= 'gray', s = 15)\n",
    "plot_test.plot(X1_test, y1_predicted, color= 'blue', linewidth = 3)\n",
    "plot_test.title('# of Shares Traded vs Closing Price (Testing Set)', fontsize = 10, fontweight = 'bold')\n",
    "plot_test.xlabel('Volume', fontsize = 10, fontweight = 'bold')\n",
    "x_ticks = np.arange(0, 300, 50)\n",
    "plot_test.ylabel('Closing Price', fontsize = 10, fontweight = 'bold')\n",
    "plot_test.show()"
   ]
  },
  {
   "cell_type": "code",
   "execution_count": 33,
   "id": "52267bb2",
   "metadata": {},
   "outputs": [],
   "source": [
    "# Create objects that contain the model summary statistics.\n",
    "\n",
    "rmse = mean_squared_error(y1_test, y1_predicted).round() # This is the mean squared error\n",
    "r2 = r2_score(y1_test, y1_predicted).round(2) # This is the R2 score. "
   ]
  },
  {
   "cell_type": "code",
   "execution_count": 34,
   "id": "9f9b87a5",
   "metadata": {},
   "outputs": [
    {
     "name": "stdout",
     "output_type": "stream",
     "text": [
      "Slope: [[-0.]]\n",
      "Mean squared error:  13033.0\n",
      "R2 score:  0.06\n"
     ]
    }
   ],
   "source": [
    "# Print the model summary statistics. This is where you evaluate the performance of the model.\n",
    "\n",
    "print('Slope:' ,regression.coef_.round(3))\n",
    "print('Mean squared error: ', rmse)\n",
    "print('R2 score: ', r2)"
   ]
  },
  {
   "cell_type": "code",
   "execution_count": 35,
   "id": "0c881ce1",
   "metadata": {},
   "outputs": [],
   "source": [
    "# Since this linear regression model is about 6% effective for my testing set, it's not the best fit for my data. \n",
    "# This could be due to data bias or not enough data points to produce significant results. \n",
    "# I'll need a model with more dimensionality to be able to predict what would effect the closing price of a stock"
   ]
  },
  {
   "cell_type": "code",
   "execution_count": 36,
   "id": "a99c1333",
   "metadata": {},
   "outputs": [
    {
     "data": {
      "text/html": [
       "<div>\n",
       "<style scoped>\n",
       "    .dataframe tbody tr th:only-of-type {\n",
       "        vertical-align: middle;\n",
       "    }\n",
       "\n",
       "    .dataframe tbody tr th {\n",
       "        vertical-align: top;\n",
       "    }\n",
       "\n",
       "    .dataframe thead th {\n",
       "        text-align: right;\n",
       "    }\n",
       "</style>\n",
       "<table border=\"1\" class=\"dataframe\">\n",
       "  <thead>\n",
       "    <tr style=\"text-align: right;\">\n",
       "      <th></th>\n",
       "      <th>Actual</th>\n",
       "      <th>Predicted</th>\n",
       "    </tr>\n",
       "  </thead>\n",
       "  <tbody>\n",
       "    <tr>\n",
       "      <th>0</th>\n",
       "      <td>44.0475</td>\n",
       "      <td>73.462457</td>\n",
       "    </tr>\n",
       "    <tr>\n",
       "      <th>1</th>\n",
       "      <td>332.4300</td>\n",
       "      <td>87.110040</td>\n",
       "    </tr>\n",
       "    <tr>\n",
       "      <th>2</th>\n",
       "      <td>0.4732</td>\n",
       "      <td>34.507221</td>\n",
       "    </tr>\n",
       "    <tr>\n",
       "      <th>3</th>\n",
       "      <td>517.9200</td>\n",
       "      <td>89.104012</td>\n",
       "    </tr>\n",
       "    <tr>\n",
       "      <th>4</th>\n",
       "      <td>26.5900</td>\n",
       "      <td>81.087861</td>\n",
       "    </tr>\n",
       "    <tr>\n",
       "      <th>5</th>\n",
       "      <td>16.1886</td>\n",
       "      <td>83.699026</td>\n",
       "    </tr>\n",
       "    <tr>\n",
       "      <th>6</th>\n",
       "      <td>25.6100</td>\n",
       "      <td>80.847675</td>\n",
       "    </tr>\n",
       "    <tr>\n",
       "      <th>7</th>\n",
       "      <td>1.9913</td>\n",
       "      <td>86.826064</td>\n",
       "    </tr>\n",
       "    <tr>\n",
       "      <th>8</th>\n",
       "      <td>0.8385</td>\n",
       "      <td>82.883822</td>\n",
       "    </tr>\n",
       "    <tr>\n",
       "      <th>9</th>\n",
       "      <td>46.2557</td>\n",
       "      <td>86.858159</td>\n",
       "    </tr>\n",
       "    <tr>\n",
       "      <th>10</th>\n",
       "      <td>286.6300</td>\n",
       "      <td>79.936587</td>\n",
       "    </tr>\n",
       "    <tr>\n",
       "      <th>11</th>\n",
       "      <td>0.2254</td>\n",
       "      <td>75.384540</td>\n",
       "    </tr>\n",
       "    <tr>\n",
       "      <th>12</th>\n",
       "      <td>402.5600</td>\n",
       "      <td>86.031140</td>\n",
       "    </tr>\n",
       "    <tr>\n",
       "      <th>13</th>\n",
       "      <td>144.7200</td>\n",
       "      <td>80.760364</td>\n",
       "    </tr>\n",
       "    <tr>\n",
       "      <th>14</th>\n",
       "      <td>0.5764</td>\n",
       "      <td>75.465715</td>\n",
       "    </tr>\n",
       "    <tr>\n",
       "      <th>15</th>\n",
       "      <td>0.6205</td>\n",
       "      <td>32.561400</td>\n",
       "    </tr>\n",
       "    <tr>\n",
       "      <th>16</th>\n",
       "      <td>25.7100</td>\n",
       "      <td>84.566714</td>\n",
       "    </tr>\n",
       "    <tr>\n",
       "      <th>17</th>\n",
       "      <td>23.8975</td>\n",
       "      <td>67.868464</td>\n",
       "    </tr>\n",
       "    <tr>\n",
       "      <th>18</th>\n",
       "      <td>32.1175</td>\n",
       "      <td>54.242709</td>\n",
       "    </tr>\n",
       "    <tr>\n",
       "      <th>19</th>\n",
       "      <td>3.1343</td>\n",
       "      <td>87.241182</td>\n",
       "    </tr>\n",
       "    <tr>\n",
       "      <th>20</th>\n",
       "      <td>0.2146</td>\n",
       "      <td>80.754120</td>\n",
       "    </tr>\n",
       "    <tr>\n",
       "      <th>21</th>\n",
       "      <td>27.7800</td>\n",
       "      <td>69.268994</td>\n",
       "    </tr>\n",
       "    <tr>\n",
       "      <th>22</th>\n",
       "      <td>0.0965</td>\n",
       "      <td>87.089612</td>\n",
       "    </tr>\n",
       "    <tr>\n",
       "      <th>23</th>\n",
       "      <td>0.4219</td>\n",
       "      <td>80.867807</td>\n",
       "    </tr>\n",
       "    <tr>\n",
       "      <th>24</th>\n",
       "      <td>0.3505</td>\n",
       "      <td>56.344581</td>\n",
       "    </tr>\n",
       "    <tr>\n",
       "      <th>25</th>\n",
       "      <td>359.9600</td>\n",
       "      <td>88.755198</td>\n",
       "    </tr>\n",
       "    <tr>\n",
       "      <th>26</th>\n",
       "      <td>0.3326</td>\n",
       "      <td>36.756747</td>\n",
       "    </tr>\n",
       "    <tr>\n",
       "      <th>27</th>\n",
       "      <td>227.0700</td>\n",
       "      <td>84.811893</td>\n",
       "    </tr>\n",
       "    <tr>\n",
       "      <th>28</th>\n",
       "      <td>34.0500</td>\n",
       "      <td>79.386452</td>\n",
       "    </tr>\n",
       "    <tr>\n",
       "      <th>29</th>\n",
       "      <td>117.4000</td>\n",
       "      <td>87.189600</td>\n",
       "    </tr>\n",
       "  </tbody>\n",
       "</table>\n",
       "</div>"
      ],
      "text/plain": [
       "      Actual  Predicted\n",
       "0    44.0475  73.462457\n",
       "1   332.4300  87.110040\n",
       "2     0.4732  34.507221\n",
       "3   517.9200  89.104012\n",
       "4    26.5900  81.087861\n",
       "5    16.1886  83.699026\n",
       "6    25.6100  80.847675\n",
       "7     1.9913  86.826064\n",
       "8     0.8385  82.883822\n",
       "9    46.2557  86.858159\n",
       "10  286.6300  79.936587\n",
       "11    0.2254  75.384540\n",
       "12  402.5600  86.031140\n",
       "13  144.7200  80.760364\n",
       "14    0.5764  75.465715\n",
       "15    0.6205  32.561400\n",
       "16   25.7100  84.566714\n",
       "17   23.8975  67.868464\n",
       "18   32.1175  54.242709\n",
       "19    3.1343  87.241182\n",
       "20    0.2146  80.754120\n",
       "21   27.7800  69.268994\n",
       "22    0.0965  87.089612\n",
       "23    0.4219  80.867807\n",
       "24    0.3505  56.344581\n",
       "25  359.9600  88.755198\n",
       "26    0.3326  36.756747\n",
       "27  227.0700  84.811893\n",
       "28   34.0500  79.386452\n",
       "29  117.4000  87.189600"
      ]
     },
     "execution_count": 36,
     "metadata": {},
     "output_type": "execute_result"
    }
   ],
   "source": [
    "# Create a dataframe comparing the actual and predicted values of y.\n",
    "\n",
    "data = pd.DataFrame({'Actual': y1_test.flatten(), 'Predicted': y1_predicted.flatten()})\n",
    "data.head(30)"
   ]
  },
  {
   "cell_type": "code",
   "execution_count": 37,
   "id": "4a8579b4",
   "metadata": {},
   "outputs": [],
   "source": [
    "# The predicted values are extremely far from the actual values"
   ]
  },
  {
   "cell_type": "code",
   "execution_count": 38,
   "id": "cdedbdca",
   "metadata": {},
   "outputs": [],
   "source": [
    "# Compare how the regression fits the training set\n",
    "y1_predicted_train = regression.predict(X1_train) # This is predicting X_train!"
   ]
  },
  {
   "cell_type": "code",
   "execution_count": 39,
   "id": "89917422",
   "metadata": {},
   "outputs": [],
   "source": [
    "rmse = mean_squared_error(y1_train, y1_predicted_train).round()\n",
    "r2 = r2_score(y1_train, y1_predicted_train).round(2)"
   ]
  },
  {
   "cell_type": "code",
   "execution_count": 40,
   "id": "3e10c235",
   "metadata": {},
   "outputs": [
    {
     "name": "stdout",
     "output_type": "stream",
     "text": [
      "Slope: [[-0.]]\n",
      "Mean squared error:  12834.0\n",
      "R2 score:  0.06\n"
     ]
    }
   ],
   "source": [
    "print('Slope:' ,regression.coef_.round(3))\n",
    "print('Mean squared error: ', rmse)\n",
    "print('R2 score: ', r2)"
   ]
  },
  {
   "cell_type": "code",
   "execution_count": 41,
   "id": "e2043802",
   "metadata": {},
   "outputs": [
    {
     "data": {
      "image/png": "[encoded data removed]",
      "text/plain": [
       "<Figure size 432x288 with 1 Axes>"
      ]
     },
     "metadata": {
      "needs_background": "light"
     },
     "output_type": "display_data"
    }
   ],
   "source": [
    "# Visualizing the training set results.\n",
    "\n",
    "plot_test = plt\n",
    "plot_test.scatter(X1_train, y1_train, color='red', s = 15)\n",
    "plot_test.plot(X1_train, y1_predicted_train, color='blue', linewidth =3)\n",
    "plot_test.title('# of Shares Traded vs Closing Price (Training Set)', fontsize = 10, fontweight = 'bold')\n",
    "plot_test.xlabel('Volume', fontsize = 10, fontweight = 'bold')\n",
    "x_ticks = np.arange(0, 300, 50)\n",
    "plot_test.ylabel('Closing Price', fontsize = 10, fontweight = 'bold')\n",
    "plot_test.show()"
   ]
  },
  {
   "cell_type": "code",
   "execution_count": 42,
   "id": "df1cb276",
   "metadata": {},
   "outputs": [],
   "source": [
    "# This linear regression model is about 6% effective for my training set, about same as my testing set"
   ]
  }
 ],
 "metadata": {
  "kernelspec": {
   "display_name": "Python 3 (ipykernel)",
   "language": "python",
   "name": "python3"
  },
  "language_info": {
   "codemirror_mode": {
    "name": "ipython",
    "version": 3
   },
   "file_extension": ".py",
   "mimetype": "text/x-python",
   "name": "python",
   "nbconvert_exporter": "python",
   "pygments_lexer": "ipython3",
   "version": "3.9.7"
  }
 },
 "nbformat": 4,
 "nbformat_minor": 5
}

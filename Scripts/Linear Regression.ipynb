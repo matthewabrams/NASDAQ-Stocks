{
 "cells": [
  {
   "cell_type": "code",
   "execution_count": 1,
   "id": "00ce15dd",
   "metadata": {},
   "outputs": [],
   "source": [
    "# Importing libraries\n",
    "\n",
    "import pandas as pd\n",
    "import numpy as np\n",
    "import os\n",
    "from datetime import datetime\n",
    "import matplotlib.pyplot as plt\n",
    "import seaborn as sns\n",
    "from sklearn.model_selection import train_test_split\n",
    "from sklearn.linear_model import LinearRegression\n",
    "from sklearn.metrics import confusion_matrix, accuracy_score\n",
    "from sklearn.metrics import mean_squared_error, r2_score"
   ]
  },
  {
   "cell_type": "code",
   "execution_count": 2,
   "id": "e7be52bd",
   "metadata": {},
   "outputs": [
    {
     "data": {
      "text/html": [
       "<div>\n",
       "<style scoped>\n",
       "    .dataframe tbody tr th:only-of-type {\n",
       "        vertical-align: middle;\n",
       "    }\n",
       "\n",
       "    .dataframe tbody tr th {\n",
       "        vertical-align: top;\n",
       "    }\n",
       "\n",
       "    .dataframe thead th {\n",
       "        text-align: right;\n",
       "    }\n",
       "</style>\n",
       "<table border=\"1\" class=\"dataframe\">\n",
       "  <thead>\n",
       "    <tr style=\"text-align: right;\">\n",
       "      <th></th>\n",
       "      <th>Date</th>\n",
       "      <th>Stock_Name</th>\n",
       "      <th>Volume</th>\n",
       "      <th>Close in $</th>\n",
       "      <th>Open in $</th>\n",
       "      <th>High in $</th>\n",
       "      <th>Low in $</th>\n",
       "    </tr>\n",
       "  </thead>\n",
       "  <tbody>\n",
       "    <tr>\n",
       "      <th>0</th>\n",
       "      <td>1997-05-15</td>\n",
       "      <td>Amazon</td>\n",
       "      <td>1443120000</td>\n",
       "      <td>0.0979</td>\n",
       "      <td>0.1219</td>\n",
       "      <td>0.1250</td>\n",
       "      <td>0.0964</td>\n",
       "    </tr>\n",
       "    <tr>\n",
       "      <th>1</th>\n",
       "      <td>1997-05-16</td>\n",
       "      <td>Amazon</td>\n",
       "      <td>294000000</td>\n",
       "      <td>0.0865</td>\n",
       "      <td>0.0984</td>\n",
       "      <td>0.0990</td>\n",
       "      <td>0.0854</td>\n",
       "    </tr>\n",
       "    <tr>\n",
       "      <th>2</th>\n",
       "      <td>1997-05-19</td>\n",
       "      <td>Amazon</td>\n",
       "      <td>122136000</td>\n",
       "      <td>0.0854</td>\n",
       "      <td>0.0880</td>\n",
       "      <td>0.0885</td>\n",
       "      <td>0.0812</td>\n",
       "    </tr>\n",
       "    <tr>\n",
       "      <th>3</th>\n",
       "      <td>1997-05-20</td>\n",
       "      <td>Amazon</td>\n",
       "      <td>109344000</td>\n",
       "      <td>0.0818</td>\n",
       "      <td>0.0865</td>\n",
       "      <td>0.0875</td>\n",
       "      <td>0.0818</td>\n",
       "    </tr>\n",
       "    <tr>\n",
       "      <th>4</th>\n",
       "      <td>1997-05-21</td>\n",
       "      <td>Amazon</td>\n",
       "      <td>377064000</td>\n",
       "      <td>0.0714</td>\n",
       "      <td>0.0818</td>\n",
       "      <td>0.0823</td>\n",
       "      <td>0.0688</td>\n",
       "    </tr>\n",
       "    <tr>\n",
       "      <th>...</th>\n",
       "      <td>...</td>\n",
       "      <td>...</td>\n",
       "      <td>...</td>\n",
       "      <td>...</td>\n",
       "      <td>...</td>\n",
       "      <td>...</td>\n",
       "      <td>...</td>\n",
       "    </tr>\n",
       "    <tr>\n",
       "      <th>39960</th>\n",
       "      <td>2024-09-23</td>\n",
       "      <td>Tesla</td>\n",
       "      <td>86927200</td>\n",
       "      <td>250.0000</td>\n",
       "      <td>242.6100</td>\n",
       "      <td>250.0000</td>\n",
       "      <td>241.9200</td>\n",
       "    </tr>\n",
       "    <tr>\n",
       "      <th>39961</th>\n",
       "      <td>2024-09-24</td>\n",
       "      <td>Tesla</td>\n",
       "      <td>88491000</td>\n",
       "      <td>254.2700</td>\n",
       "      <td>254.0800</td>\n",
       "      <td>257.1900</td>\n",
       "      <td>249.0500</td>\n",
       "    </tr>\n",
       "    <tr>\n",
       "      <th>39962</th>\n",
       "      <td>2024-09-25</td>\n",
       "      <td>Tesla</td>\n",
       "      <td>65034300</td>\n",
       "      <td>257.0200</td>\n",
       "      <td>252.5400</td>\n",
       "      <td>257.0500</td>\n",
       "      <td>252.2800</td>\n",
       "    </tr>\n",
       "    <tr>\n",
       "      <th>39963</th>\n",
       "      <td>2024-09-26</td>\n",
       "      <td>Tesla</td>\n",
       "      <td>67142200</td>\n",
       "      <td>254.2200</td>\n",
       "      <td>260.6000</td>\n",
       "      <td>261.7500</td>\n",
       "      <td>251.5300</td>\n",
       "    </tr>\n",
       "    <tr>\n",
       "      <th>39964</th>\n",
       "      <td>2024-09-27</td>\n",
       "      <td>Tesla</td>\n",
       "      <td>70988100</td>\n",
       "      <td>260.4600</td>\n",
       "      <td>257.3800</td>\n",
       "      <td>260.7000</td>\n",
       "      <td>254.1200</td>\n",
       "    </tr>\n",
       "  </tbody>\n",
       "</table>\n",
       "<p>39965 rows × 7 columns</p>\n",
       "</div>"
      ],
      "text/plain": [
       "             Date Stock_Name      Volume  Close in $  Open in $  High in $  \\\n",
       "0      1997-05-15     Amazon  1443120000      0.0979     0.1219     0.1250   \n",
       "1      1997-05-16     Amazon   294000000      0.0865     0.0984     0.0990   \n",
       "2      1997-05-19     Amazon   122136000      0.0854     0.0880     0.0885   \n",
       "3      1997-05-20     Amazon   109344000      0.0818     0.0865     0.0875   \n",
       "4      1997-05-21     Amazon   377064000      0.0714     0.0818     0.0823   \n",
       "...           ...        ...         ...         ...        ...        ...   \n",
       "39960  2024-09-23      Tesla    86927200    250.0000   242.6100   250.0000   \n",
       "39961  2024-09-24      Tesla    88491000    254.2700   254.0800   257.1900   \n",
       "39962  2024-09-25      Tesla    65034300    257.0200   252.5400   257.0500   \n",
       "39963  2024-09-26      Tesla    67142200    254.2200   260.6000   261.7500   \n",
       "39964  2024-09-27      Tesla    70988100    260.4600   257.3800   260.7000   \n",
       "\n",
       "       Low in $  \n",
       "0        0.0964  \n",
       "1        0.0854  \n",
       "2        0.0812  \n",
       "3        0.0818  \n",
       "4        0.0688  \n",
       "...         ...  \n",
       "39960  241.9200  \n",
       "39961  249.0500  \n",
       "39962  252.2800  \n",
       "39963  251.5300  \n",
       "39964  254.1200  \n",
       "\n",
       "[39965 rows x 7 columns]"
      ]
     },
     "execution_count": 2,
     "metadata": {},
     "output_type": "execute_result"
    }
   ],
   "source": [
    "path = r'/Users/matthewabrams/Desktop/Stocks Data/'\n",
    "stocks = pd.read_csv(os.path.join(path, 'Stock Datasets/New Files/6_Stocks_Transformed.csv'), index_col = False)\n",
    "stocks.drop(columns =['Unnamed: 0', 'MA_Six_Months', 'MA_One_Year'], inplace = True)\n",
    "stocks"
   ]
  },
  {
   "cell_type": "code",
   "execution_count": 3,
   "id": "df6303ad",
   "metadata": {},
   "outputs": [
    {
     "data": {
      "image/png": "[encoded data removed]",
      "text/plain": [
       "<Figure size 864x432 with 2 Axes>"
      ]
     },
     "metadata": {
      "needs_background": "light"
     },
     "output_type": "display_data"
    }
   ],
   "source": [
    "# Heat Map for Visualization Correlations\n",
    "\n",
    "plt.figure(figsize=(12,6))\n",
    "sns.heatmap(stocks.corr(),cmap = 'Reds', annot = True)\n",
    "plt.show()"
   ]
  },
  {
   "cell_type": "code",
   "execution_count": 4,
   "id": "e0cc71e3",
   "metadata": {},
   "outputs": [],
   "source": [
    "# Splitting the dataset 80% training and 20% testing\n",
    "X = stocks[['Volume', 'Open in $', 'High in $', 'Low in $']].values\n",
    "y = stocks['Close in $'].values"
   ]
  },
  {
   "cell_type": "code",
   "execution_count": 5,
   "id": "f55a1761",
   "metadata": {},
   "outputs": [],
   "source": [
    "X_train, X_test, y_train, y_test = train_test_split(X, y, test_size = 0.2, random_state = 0)"
   ]
  },
  {
   "cell_type": "code",
   "execution_count": 6,
   "id": "509e584c",
   "metadata": {},
   "outputs": [],
   "source": [
    "# Creating regression model\n",
    "regressor = LinearRegression()\n",
    "\n",
    "# Fit linear regression model\n",
    "model = regressor.fit(X_train, y_train)\n",
    "\n",
    "# Use model to make prediction\n",
    "y_pred = regressor.predict(X_test)"
   ]
  },
  {
   "cell_type": "code",
   "execution_count": 7,
   "id": "f6d198f2",
   "metadata": {},
   "outputs": [
    {
     "name": "stdout",
     "output_type": "stream",
     "text": [
      "      Actual_Price  Predicted_Price\n",
      "0           0.3036         0.315461\n",
      "1           0.2467         0.257247\n",
      "2          62.6114        62.727713\n",
      "3           0.3086         0.314849\n",
      "4          15.0230        14.973546\n",
      "...            ...              ...\n",
      "7988        0.3460         0.352086\n",
      "7989       58.0400        58.296772\n",
      "7990      196.2300       193.524058\n",
      "7991       14.2015        14.250860\n",
      "7992      559.4900       555.811472\n",
      "\n",
      "[7993 rows x 2 columns]\n"
     ]
    }
   ],
   "source": [
    "# With the test predictions complete, next step is to compare them (table of Actual Prices vs Predicted Prices)\n",
    "# With the actual output values for X_test by organizing them in a dataframeformat\n",
    "\n",
    "predicted = regressor.predict(X_test)\n",
    "dframe = pd.DataFrame(y_test,predicted)\n",
    "dfr = pd.DataFrame({'Actual_Price':y_test,'Predicted_Price':predicted})\n",
    "print(dfr)"
   ]
  },
  {
   "cell_type": "code",
   "execution_count": 8,
   "id": "516611b4",
   "metadata": {},
   "outputs": [
    {
     "data": {
      "text/plain": [
       "<matplotlib.legend.Legend at 0x7fc7b8079490>"
      ]
     },
     "execution_count": 8,
     "metadata": {},
     "output_type": "execute_result"
    },
    {
     "data": {
      "image/png": "[encoded data removed]",
      "text/plain": [
       "<Figure size 576x576 with 1 Axes>"
      ]
     },
     "metadata": {
      "needs_background": "light"
     },
     "output_type": "display_data"
    }
   ],
   "source": [
    "plt.figure(figsize = (8,8))\n",
    "plt.ylabel('Closing Price Per Share')\n",
    "plt.plot(dfr.head(15))\n",
    "plt.legend(['Actual_Price', 'Predicted_Price'])"
   ]
  },
  {
   "cell_type": "code",
   "execution_count": 9,
   "id": "777533f7",
   "metadata": {},
   "outputs": [
    {
     "data": {
      "text/plain": [
       "<AxesSubplot:>"
      ]
     },
     "execution_count": 9,
     "metadata": {},
     "output_type": "execute_result"
    },
    {
     "data": {
      "image/png": "[encoded data removed]",
      "text/plain": [
       "<Figure size 432x288 with 1 Axes>"
      ]
     },
     "metadata": {
      "needs_background": "light"
     },
     "output_type": "display_data"
    }
   ],
   "source": [
    "# Graph first 15 values\n",
    "\n",
    "graph = dfr.head(15)\n",
    "graph.plot(kind = 'bar')"
   ]
  },
  {
   "cell_type": "code",
   "execution_count": 10,
   "id": "88217180",
   "metadata": {},
   "outputs": [],
   "source": [
    "# The predicted prices are extremely close to the actual prices"
   ]
  },
  {
   "cell_type": "code",
   "execution_count": 11,
   "id": "e18248e1",
   "metadata": {},
   "outputs": [],
   "source": [
    "# Extreme Value Checks"
   ]
  },
  {
   "cell_type": "code",
   "execution_count": 12,
   "id": "e95f7113",
   "metadata": {},
   "outputs": [
    {
     "data": {
      "text/plain": [
       "69.17236383835868"
      ]
     },
     "execution_count": 12,
     "metadata": {},
     "output_type": "execute_result"
    }
   ],
   "source": [
    "stocks['Close in $'].mean()"
   ]
  },
  {
   "cell_type": "code",
   "execution_count": 13,
   "id": "1f94b7a6",
   "metadata": {},
   "outputs": [
    {
     "data": {
      "text/plain": [
       "114.21502413418342"
      ]
     },
     "execution_count": 13,
     "metadata": {},
     "output_type": "execute_result"
    }
   ],
   "source": [
    "stocks['Close in $'].std()"
   ]
  },
  {
   "cell_type": "code",
   "execution_count": 14,
   "id": "343fd2da",
   "metadata": {},
   "outputs": [
    {
     "data": {
      "text/plain": [
       "297.6024121067255"
      ]
     },
     "execution_count": 14,
     "metadata": {},
     "output_type": "execute_result"
    }
   ],
   "source": [
    "# Determining upper limit for outliers that are 2 standard deviations of the mean\n",
    "\n",
    "upper_limit_1 = stocks['Close in $'].mean() + 2*(stocks['Close in $'].std())\n",
    "upper_limit_1"
   ]
  },
  {
   "cell_type": "code",
   "execution_count": 15,
   "id": "8eac1299",
   "metadata": {},
   "outputs": [
    {
     "data": {
      "text/plain": [
       "-159.25768443000817"
      ]
     },
     "execution_count": 15,
     "metadata": {},
     "output_type": "execute_result"
    }
   ],
   "source": [
    "# Determining lower limit for outliers that are 2 standard deviations of the mean\n",
    "\n",
    "lower_limit_1 = stocks['Close in $'].mean() - 2*(stocks['Close in $'].std())\n",
    "lower_limit_1"
   ]
  },
  {
   "cell_type": "code",
   "execution_count": 16,
   "id": "f89e431c",
   "metadata": {},
   "outputs": [
    {
     "data": {
      "text/plain": [
       "722.26"
      ]
     },
     "execution_count": 16,
     "metadata": {},
     "output_type": "execute_result"
    }
   ],
   "source": [
    "stocks['Close in $'].max()"
   ]
  },
  {
   "cell_type": "code",
   "execution_count": 17,
   "id": "c1d495ea",
   "metadata": {},
   "outputs": [
    {
     "data": {
      "text/plain": [
       "0.9378956587013637"
      ]
     },
     "execution_count": 17,
     "metadata": {},
     "output_type": "execute_result"
    }
   ],
   "source": [
    "# Determing the percentage of values under 'Close/Last in $' column that are not outliers\n",
    "# Dividing the number of values between 0 and upper limit and the total number of observations\n",
    "\n",
    "len(stocks[stocks['Close in $']<upper_limit_1])/len(stocks)"
   ]
  },
  {
   "cell_type": "code",
   "execution_count": 18,
   "id": "430b8ce2",
   "metadata": {},
   "outputs": [],
   "source": [
    "# About 6% of values under Close/Last in $ column are outliers"
   ]
  },
  {
   "cell_type": "code",
   "execution_count": 19,
   "id": "260165af",
   "metadata": {},
   "outputs": [
    {
     "data": {
      "text/plain": [
       "138226841.8691355"
      ]
     },
     "execution_count": 19,
     "metadata": {},
     "output_type": "execute_result"
    }
   ],
   "source": [
    "stocks['Volume'].mean()"
   ]
  },
  {
   "cell_type": "code",
   "execution_count": 20,
   "id": "b74014f0",
   "metadata": {},
   "outputs": [
    {
     "data": {
      "text/plain": [
       "221297736.95872143"
      ]
     },
     "execution_count": 20,
     "metadata": {},
     "output_type": "execute_result"
    }
   ],
   "source": [
    "stocks['Volume'].std()"
   ]
  },
  {
   "cell_type": "code",
   "execution_count": 21,
   "id": "bd901e39",
   "metadata": {},
   "outputs": [
    {
     "data": {
      "text/plain": [
       "580822315.7865784"
      ]
     },
     "execution_count": 21,
     "metadata": {},
     "output_type": "execute_result"
    }
   ],
   "source": [
    "# Determining upper limit for outliers that are 2 standard deviations of the mean\n",
    "\n",
    "upper_limit_2 = stocks['Volume'].mean() + 2*(stocks['Volume'].std())\n",
    "upper_limit_2"
   ]
  },
  {
   "cell_type": "code",
   "execution_count": 22,
   "id": "0c6bedac",
   "metadata": {},
   "outputs": [
    {
     "data": {
      "text/plain": [
       "-304368632.04830736"
      ]
     },
     "execution_count": 22,
     "metadata": {},
     "output_type": "execute_result"
    }
   ],
   "source": [
    "# Determining upper limit for outliers that are 2 standard deviations of the mean\n",
    "\n",
    "lower_limit_2 = stocks['Volume'].mean() - 2*(stocks['Volume'].std())\n",
    "lower_limit_2 "
   ]
  },
  {
   "cell_type": "code",
   "execution_count": 23,
   "id": "c8b4b584",
   "metadata": {},
   "outputs": [
    {
     "data": {
      "text/plain": [
       "7421640800"
      ]
     },
     "execution_count": 23,
     "metadata": {},
     "output_type": "execute_result"
    }
   ],
   "source": [
    "stocks['Volume'].max()"
   ]
  },
  {
   "cell_type": "code",
   "execution_count": 24,
   "id": "ccb85b92",
   "metadata": {},
   "outputs": [
    {
     "data": {
      "text/plain": [
       "0.9566370574252471"
      ]
     },
     "execution_count": 24,
     "metadata": {},
     "output_type": "execute_result"
    }
   ],
   "source": [
    "# Determing the percentage of values under Volume column that are not outliers\n",
    "# Dividing the number of values between 0 and upper limit and the total number of observations\n",
    "\n",
    "len(stocks[stocks['Volume']<upper_limit_2])/len(stocks)"
   ]
  },
  {
   "cell_type": "code",
   "execution_count": 25,
   "id": "520f3884",
   "metadata": {},
   "outputs": [],
   "source": [
    "# About 4% of values under Volume in $ column are outliers"
   ]
  },
  {
   "cell_type": "code",
   "execution_count": 26,
   "id": "26c76dd2",
   "metadata": {},
   "outputs": [],
   "source": [
    "# Original Hypothesis: If number of shares traded increases, the closing price decreases."
   ]
  },
  {
   "cell_type": "code",
   "execution_count": 27,
   "id": "afd55886",
   "metadata": {},
   "outputs": [
    {
     "data": {
      "image/png": "[encoded data removed]",
      "text/plain": [
       "<Figure size 432x288 with 1 Axes>"
      ]
     },
     "metadata": {
      "needs_background": "light"
     },
     "output_type": "display_data"
    }
   ],
   "source": [
    "# Create a scatterplot using matplotlib for another look at how the chosen variables plot against each other.\n",
    "\n",
    "stocks.plot(x = 'Volume' , y ='Close in $', style='o') # The style option creates a scatterplot; without it, we only have lines.\n",
    "plt.title('# of Shares Traded vs Closing Price Per Share', fontsize = 10, fontweight = 'bold')  \n",
    "plt.xlabel('Volume', fontsize = 10, fontweight = 'bold')  \n",
    "plt.ylabel('Closing Price', fontsize = 10, fontweight = 'bold')  \n",
    "plt.show()"
   ]
  },
  {
   "cell_type": "code",
   "execution_count": 28,
   "id": "4c917ba8",
   "metadata": {},
   "outputs": [],
   "source": [
    "# Reshape the variables into NumPy arrays and put them into separate objects.\n",
    "\n",
    "X1 = stocks['Volume'].values.reshape(-1,1)\n",
    "y1 = stocks['Close in $'].values.reshape(-1,1)"
   ]
  },
  {
   "cell_type": "code",
   "execution_count": 29,
   "id": "8b193931",
   "metadata": {},
   "outputs": [],
   "source": [
    "# Split data into a training set and a test set.\n",
    "\n",
    "X1_train, X1_test, y1_train, y1_test = train_test_split(X1, y1, test_size=0.2, random_state=0)"
   ]
  },
  {
   "cell_type": "code",
   "execution_count": 30,
   "id": "b8531127",
   "metadata": {},
   "outputs": [
    {
     "data": {
      "text/plain": [
       "LinearRegression()"
      ]
     },
     "execution_count": 30,
     "metadata": {},
     "output_type": "execute_result"
    }
   ],
   "source": [
    "# Create a regression object.\n",
    "\n",
    "regression = LinearRegression()  # This is the regression object, which will be fit onto the training set.\n",
    "\n",
    "# Fit the regression object onto the training set.\n",
    "\n",
    "regression.fit(X1_train, y1_train)"
   ]
  },
  {
   "cell_type": "code",
   "execution_count": 31,
   "id": "5954c750",
   "metadata": {},
   "outputs": [],
   "source": [
    "# Predict the values of y using X.\n",
    "\n",
    "y1_predicted = regression.predict(X1_test)"
   ]
  },
  {
   "cell_type": "code",
   "execution_count": 32,
   "id": "fbff401d",
   "metadata": {},
   "outputs": [
    {
     "data": {
      "image/png": "[encoded data removed]",
      "text/plain": [
       "<Figure size 432x288 with 1 Axes>"
      ]
     },
     "metadata": {
      "needs_background": "light"
     },
     "output_type": "display_data"
    }
   ],
   "source": [
    "# Create a plot that shows the regression line from the model on the test set.\n",
    "\n",
    "plot_test = plt\n",
    "plot_test.scatter(X1_test, y1_test, color= 'gray', s = 15)\n",
    "plot_test.plot(X1_test, y1_predicted, color= 'blue', linewidth = 3)\n",
    "plot_test.title('# of Shares Traded vs Closing Price (Testing Set)', fontsize = 10, fontweight = 'bold')\n",
    "plot_test.xlabel('Volume', fontsize = 10, fontweight = 'bold')\n",
    "x_ticks = np.arange(0, 300, 50)\n",
    "plot_test.ylabel('Closing Price', fontsize = 10, fontweight = 'bold')\n",
    "plot_test.show()"
   ]
  },
  {
   "cell_type": "code",
   "execution_count": 33,
   "id": "52267bb2",
   "metadata": {},
   "outputs": [],
   "source": [
    "# Create objects that contain the model summary statistics.\n",
    "\n",
    "rmse = mean_squared_error(y1_test, y1_predicted).round() # This is the mean squared error\n",
    "r2 = r2_score(y1_test, y1_predicted).round(2) # This is the R2 score. "
   ]
  },
  {
   "cell_type": "code",
   "execution_count": 34,
   "id": "9f9b87a5",
   "metadata": {},
   "outputs": [
    {
     "name": "stdout",
     "output_type": "stream",
     "text": [
      "Slope: [[-0.]]\n",
      "Mean squared error:  12171.0\n",
      "R2 score:  0.06\n"
     ]
    }
   ],
   "source": [
    "# Print the model summary statistics. This is where you evaluate the performance of the model.\n",
    "\n",
    "print('Slope:' ,regression.coef_.round(3))\n",
    "print('Mean squared error: ', rmse)\n",
    "print('R2 score: ', r2)"
   ]
  },
  {
   "cell_type": "code",
   "execution_count": 35,
   "id": "0c881ce1",
   "metadata": {},
   "outputs": [],
   "source": [
    "# Since this linear regression model is about 6% effective for my testing set, it's not the best fit for my data. \n",
    "# This could be due to data bias or not enough data points to produce significant results. \n",
    "# I'll need a model with more dimensionality to be able to predict what would effect the closing price of a stock"
   ]
  },
  {
   "cell_type": "code",
   "execution_count": 36,
   "id": "a99c1333",
   "metadata": {},
   "outputs": [
    {
     "data": {
      "text/html": [
       "<div>\n",
       "<style scoped>\n",
       "    .dataframe tbody tr th:only-of-type {\n",
       "        vertical-align: middle;\n",
       "    }\n",
       "\n",
       "    .dataframe tbody tr th {\n",
       "        vertical-align: top;\n",
       "    }\n",
       "\n",
       "    .dataframe thead th {\n",
       "        text-align: right;\n",
       "    }\n",
       "</style>\n",
       "<table border=\"1\" class=\"dataframe\">\n",
       "  <thead>\n",
       "    <tr style=\"text-align: right;\">\n",
       "      <th></th>\n",
       "      <th>Actual</th>\n",
       "      <th>Predicted</th>\n",
       "    </tr>\n",
       "  </thead>\n",
       "  <tbody>\n",
       "    <tr>\n",
       "      <th>0</th>\n",
       "      <td>0.3036</td>\n",
       "      <td>64.226477</td>\n",
       "    </tr>\n",
       "    <tr>\n",
       "      <th>1</th>\n",
       "      <td>0.2467</td>\n",
       "      <td>44.250672</td>\n",
       "    </tr>\n",
       "    <tr>\n",
       "      <th>2</th>\n",
       "      <td>62.6114</td>\n",
       "      <td>85.748281</td>\n",
       "    </tr>\n",
       "    <tr>\n",
       "      <th>3</th>\n",
       "      <td>0.3086</td>\n",
       "      <td>27.359213</td>\n",
       "    </tr>\n",
       "    <tr>\n",
       "      <th>4</th>\n",
       "      <td>15.0230</td>\n",
       "      <td>79.763214</td>\n",
       "    </tr>\n",
       "    <tr>\n",
       "      <th>5</th>\n",
       "      <td>2.5430</td>\n",
       "      <td>76.092085</td>\n",
       "    </tr>\n",
       "    <tr>\n",
       "      <th>6</th>\n",
       "      <td>17.0625</td>\n",
       "      <td>84.680776</td>\n",
       "    </tr>\n",
       "    <tr>\n",
       "      <th>7</th>\n",
       "      <td>5.3329</td>\n",
       "      <td>86.801664</td>\n",
       "    </tr>\n",
       "    <tr>\n",
       "      <th>8</th>\n",
       "      <td>6.6211</td>\n",
       "      <td>79.648204</td>\n",
       "    </tr>\n",
       "    <tr>\n",
       "      <th>9</th>\n",
       "      <td>1.1429</td>\n",
       "      <td>44.876503</td>\n",
       "    </tr>\n",
       "    <tr>\n",
       "      <th>10</th>\n",
       "      <td>596.9700</td>\n",
       "      <td>87.508977</td>\n",
       "    </tr>\n",
       "    <tr>\n",
       "      <th>11</th>\n",
       "      <td>18.4040</td>\n",
       "      <td>73.875178</td>\n",
       "    </tr>\n",
       "    <tr>\n",
       "      <th>12</th>\n",
       "      <td>15.7013</td>\n",
       "      <td>76.054211</td>\n",
       "    </tr>\n",
       "    <tr>\n",
       "      <th>13</th>\n",
       "      <td>20.5567</td>\n",
       "      <td>71.642735</td>\n",
       "    </tr>\n",
       "    <tr>\n",
       "      <th>14</th>\n",
       "      <td>21.5400</td>\n",
       "      <td>78.491094</td>\n",
       "    </tr>\n",
       "    <tr>\n",
       "      <th>15</th>\n",
       "      <td>74.9500</td>\n",
       "      <td>72.212488</td>\n",
       "    </tr>\n",
       "    <tr>\n",
       "      <th>16</th>\n",
       "      <td>1.3040</td>\n",
       "      <td>86.664116</td>\n",
       "    </tr>\n",
       "    <tr>\n",
       "      <th>17</th>\n",
       "      <td>193.6267</td>\n",
       "      <td>77.586275</td>\n",
       "    </tr>\n",
       "    <tr>\n",
       "      <th>18</th>\n",
       "      <td>38.3200</td>\n",
       "      <td>76.261985</td>\n",
       "    </tr>\n",
       "    <tr>\n",
       "      <th>19</th>\n",
       "      <td>45.1600</td>\n",
       "      <td>81.625797</td>\n",
       "    </tr>\n",
       "    <tr>\n",
       "      <th>20</th>\n",
       "      <td>26.5000</td>\n",
       "      <td>79.118459</td>\n",
       "    </tr>\n",
       "    <tr>\n",
       "      <th>21</th>\n",
       "      <td>3.0029</td>\n",
       "      <td>87.111592</td>\n",
       "    </tr>\n",
       "    <tr>\n",
       "      <th>22</th>\n",
       "      <td>26.3700</td>\n",
       "      <td>80.718510</td>\n",
       "    </tr>\n",
       "    <tr>\n",
       "      <th>23</th>\n",
       "      <td>1.7550</td>\n",
       "      <td>71.513843</td>\n",
       "    </tr>\n",
       "    <tr>\n",
       "      <th>24</th>\n",
       "      <td>34.9600</td>\n",
       "      <td>82.424582</td>\n",
       "    </tr>\n",
       "    <tr>\n",
       "      <th>25</th>\n",
       "      <td>207.4600</td>\n",
       "      <td>65.299796</td>\n",
       "    </tr>\n",
       "    <tr>\n",
       "      <th>26</th>\n",
       "      <td>101.6300</td>\n",
       "      <td>85.044648</td>\n",
       "    </tr>\n",
       "    <tr>\n",
       "      <th>27</th>\n",
       "      <td>21.4000</td>\n",
       "      <td>81.474526</td>\n",
       "    </tr>\n",
       "    <tr>\n",
       "      <th>28</th>\n",
       "      <td>142.1600</td>\n",
       "      <td>85.981288</td>\n",
       "    </tr>\n",
       "    <tr>\n",
       "      <th>29</th>\n",
       "      <td>0.3929</td>\n",
       "      <td>46.477674</td>\n",
       "    </tr>\n",
       "  </tbody>\n",
       "</table>\n",
       "</div>"
      ],
      "text/plain": [
       "      Actual  Predicted\n",
       "0     0.3036  64.226477\n",
       "1     0.2467  44.250672\n",
       "2    62.6114  85.748281\n",
       "3     0.3086  27.359213\n",
       "4    15.0230  79.763214\n",
       "5     2.5430  76.092085\n",
       "6    17.0625  84.680776\n",
       "7     5.3329  86.801664\n",
       "8     6.6211  79.648204\n",
       "9     1.1429  44.876503\n",
       "10  596.9700  87.508977\n",
       "11   18.4040  73.875178\n",
       "12   15.7013  76.054211\n",
       "13   20.5567  71.642735\n",
       "14   21.5400  78.491094\n",
       "15   74.9500  72.212488\n",
       "16    1.3040  86.664116\n",
       "17  193.6267  77.586275\n",
       "18   38.3200  76.261985\n",
       "19   45.1600  81.625797\n",
       "20   26.5000  79.118459\n",
       "21    3.0029  87.111592\n",
       "22   26.3700  80.718510\n",
       "23    1.7550  71.513843\n",
       "24   34.9600  82.424582\n",
       "25  207.4600  65.299796\n",
       "26  101.6300  85.044648\n",
       "27   21.4000  81.474526\n",
       "28  142.1600  85.981288\n",
       "29    0.3929  46.477674"
      ]
     },
     "execution_count": 36,
     "metadata": {},
     "output_type": "execute_result"
    }
   ],
   "source": [
    "# Create a dataframe comparing the actual and predicted values of y.\n",
    "\n",
    "data = pd.DataFrame({'Actual': y1_test.flatten(), 'Predicted': y1_predicted.flatten()})\n",
    "data.head(30)"
   ]
  },
  {
   "cell_type": "code",
   "execution_count": 37,
   "id": "4a8579b4",
   "metadata": {},
   "outputs": [],
   "source": [
    "# The predicted values are extremely far from the actual values"
   ]
  },
  {
   "cell_type": "code",
   "execution_count": 38,
   "id": "cdedbdca",
   "metadata": {},
   "outputs": [],
   "source": [
    "# Compare how the regression fits the training set\n",
    "y1_predicted_train = regression.predict(X1_train) # This is predicting X_train!"
   ]
  },
  {
   "cell_type": "code",
   "execution_count": 39,
   "id": "89917422",
   "metadata": {},
   "outputs": [],
   "source": [
    "rmse = mean_squared_error(y1_train, y1_predicted_train).round()\n",
    "r2 = r2_score(y1_train, y1_predicted_train).round(2)"
   ]
  },
  {
   "cell_type": "code",
   "execution_count": 40,
   "id": "3e10c235",
   "metadata": {},
   "outputs": [
    {
     "name": "stdout",
     "output_type": "stream",
     "text": [
      "Slope: [[-0.]]\n",
      "Mean squared error:  12216.0\n",
      "R2 score:  0.07\n"
     ]
    }
   ],
   "source": [
    "print('Slope:' ,regression.coef_.round(3))\n",
    "print('Mean squared error: ', rmse)\n",
    "print('R2 score: ', r2)"
   ]
  },
  {
   "cell_type": "code",
   "execution_count": 41,
   "id": "e2043802",
   "metadata": {},
   "outputs": [
    {
     "data": {
      "image/png": "[encoded data removed]",
      "text/plain": [
       "<Figure size 432x288 with 1 Axes>"
      ]
     },
     "metadata": {
      "needs_background": "light"
     },
     "output_type": "display_data"
    }
   ],
   "source": [
    "# Visualizing the training set results.\n",
    "\n",
    "plot_test = plt\n",
    "plot_test.scatter(X1_train, y1_train, color='red', s = 15)\n",
    "plot_test.plot(X1_train, y1_predicted_train, color='blue', linewidth =3)\n",
    "plot_test.title('# of Shares Traded vs Closing Price (Training Set)', fontsize = 10, fontweight = 'bold')\n",
    "plot_test.xlabel('Volume', fontsize = 10, fontweight = 'bold')\n",
    "x_ticks = np.arange(0, 300, 50)\n",
    "plot_test.ylabel('Closing Price', fontsize = 10, fontweight = 'bold')\n",
    "plot_test.show()"
   ]
  },
  {
   "cell_type": "code",
   "execution_count": 42,
   "id": "df1cb276",
   "metadata": {},
   "outputs": [],
   "source": [
    "# This linear regression model is about 7% effective for my training set, about same as my testing set"
   ]
  }
 ],
 "metadata": {
  "kernelspec": {
   "display_name": "Python 3 (ipykernel)",
   "language": "python",
   "name": "python3"
  },
  "language_info": {
   "codemirror_mode": {
    "name": "ipython",
    "version": 3
   },
   "file_extension": ".py",
   "mimetype": "text/x-python",
   "name": "python",
   "nbconvert_exporter": "python",
   "pygments_lexer": "ipython3",
   "version": "3.9.7"
  }
 },
 "nbformat": 4,
 "nbformat_minor": 5
}

{
 "cells": [
  {
   "cell_type": "code",
   "execution_count": 1,
   "id": "00ce15dd",
   "metadata": {},
   "outputs": [],
   "source": [
    "# Importing libraries\n",
    "\n",
    "import pandas as pd\n",
    "import numpy as np\n",
    "import os\n",
    "from datetime import datetime\n",
    "import matplotlib.pyplot as plt\n",
    "import seaborn as sns\n",
    "from sklearn.model_selection import train_test_split\n",
    "from sklearn.linear_model import LinearRegression\n",
    "from sklearn.metrics import confusion_matrix, accuracy_score\n",
    "from sklearn.metrics import mean_squared_error, r2_score"
   ]
  },
  {
   "cell_type": "code",
   "execution_count": 2,
   "id": "e7be52bd",
   "metadata": {},
   "outputs": [
    {
     "data": {
      "text/html": [
       "<div>\n",
       "<style scoped>\n",
       "    .dataframe tbody tr th:only-of-type {\n",
       "        vertical-align: middle;\n",
       "    }\n",
       "\n",
       "    .dataframe tbody tr th {\n",
       "        vertical-align: top;\n",
       "    }\n",
       "\n",
       "    .dataframe thead th {\n",
       "        text-align: right;\n",
       "    }\n",
       "</style>\n",
       "<table border=\"1\" class=\"dataframe\">\n",
       "  <thead>\n",
       "    <tr style=\"text-align: right;\">\n",
       "      <th></th>\n",
       "      <th>Date</th>\n",
       "      <th>Stock_Name</th>\n",
       "      <th>Volume</th>\n",
       "      <th>Close/Last in $</th>\n",
       "      <th>Open in $</th>\n",
       "      <th>High in $</th>\n",
       "      <th>Low in $</th>\n",
       "    </tr>\n",
       "  </thead>\n",
       "  <tbody>\n",
       "    <tr>\n",
       "      <th>0</th>\n",
       "      <td>2014-09-22</td>\n",
       "      <td>Amazon</td>\n",
       "      <td>62189780</td>\n",
       "      <td>16.2250</td>\n",
       "      <td>16.4245</td>\n",
       "      <td>16.4745</td>\n",
       "      <td>16.4745</td>\n",
       "    </tr>\n",
       "    <tr>\n",
       "      <th>1</th>\n",
       "      <td>2014-09-23</td>\n",
       "      <td>Amazon</td>\n",
       "      <td>46972460</td>\n",
       "      <td>16.1815</td>\n",
       "      <td>16.1230</td>\n",
       "      <td>16.3800</td>\n",
       "      <td>16.3800</td>\n",
       "    </tr>\n",
       "    <tr>\n",
       "      <th>2</th>\n",
       "      <td>2014-09-24</td>\n",
       "      <td>Amazon</td>\n",
       "      <td>52802720</td>\n",
       "      <td>16.4105</td>\n",
       "      <td>16.2085</td>\n",
       "      <td>16.4720</td>\n",
       "      <td>16.4720</td>\n",
       "    </tr>\n",
       "    <tr>\n",
       "      <th>3</th>\n",
       "      <td>2014-09-25</td>\n",
       "      <td>Amazon</td>\n",
       "      <td>58573060</td>\n",
       "      <td>16.0965</td>\n",
       "      <td>16.3995</td>\n",
       "      <td>16.4270</td>\n",
       "      <td>16.4270</td>\n",
       "    </tr>\n",
       "    <tr>\n",
       "      <th>4</th>\n",
       "      <td>2014-09-26</td>\n",
       "      <td>Amazon</td>\n",
       "      <td>72707740</td>\n",
       "      <td>16.1605</td>\n",
       "      <td>16.0300</td>\n",
       "      <td>16.1750</td>\n",
       "      <td>16.1750</td>\n",
       "    </tr>\n",
       "    <tr>\n",
       "      <th>...</th>\n",
       "      <td>...</td>\n",
       "      <td>...</td>\n",
       "      <td>...</td>\n",
       "      <td>...</td>\n",
       "      <td>...</td>\n",
       "      <td>...</td>\n",
       "      <td>...</td>\n",
       "    </tr>\n",
       "    <tr>\n",
       "      <th>15097</th>\n",
       "      <td>2024-09-16</td>\n",
       "      <td>Tesla</td>\n",
       "      <td>54323000</td>\n",
       "      <td>226.7800</td>\n",
       "      <td>229.3000</td>\n",
       "      <td>229.9600</td>\n",
       "      <td>223.5300</td>\n",
       "    </tr>\n",
       "    <tr>\n",
       "      <th>15098</th>\n",
       "      <td>2024-09-17</td>\n",
       "      <td>Tesla</td>\n",
       "      <td>66761640</td>\n",
       "      <td>227.8700</td>\n",
       "      <td>229.4500</td>\n",
       "      <td>234.5700</td>\n",
       "      <td>226.5533</td>\n",
       "    </tr>\n",
       "    <tr>\n",
       "      <th>15099</th>\n",
       "      <td>2024-09-18</td>\n",
       "      <td>Tesla</td>\n",
       "      <td>78010200</td>\n",
       "      <td>227.2000</td>\n",
       "      <td>230.0900</td>\n",
       "      <td>235.6800</td>\n",
       "      <td>226.8800</td>\n",
       "    </tr>\n",
       "    <tr>\n",
       "      <th>15100</th>\n",
       "      <td>2024-09-19</td>\n",
       "      <td>Tesla</td>\n",
       "      <td>102694600</td>\n",
       "      <td>243.9200</td>\n",
       "      <td>234.0000</td>\n",
       "      <td>244.2400</td>\n",
       "      <td>232.1300</td>\n",
       "    </tr>\n",
       "    <tr>\n",
       "      <th>15101</th>\n",
       "      <td>2024-09-20</td>\n",
       "      <td>Tesla</td>\n",
       "      <td>99879070</td>\n",
       "      <td>238.2500</td>\n",
       "      <td>241.5200</td>\n",
       "      <td>243.9900</td>\n",
       "      <td>235.9200</td>\n",
       "    </tr>\n",
       "  </tbody>\n",
       "</table>\n",
       "<p>15102 rows × 7 columns</p>\n",
       "</div>"
      ],
      "text/plain": [
       "             Date Stock_Name     Volume  Close/Last in $  Open in $  \\\n",
       "0      2014-09-22     Amazon   62189780          16.2250    16.4245   \n",
       "1      2014-09-23     Amazon   46972460          16.1815    16.1230   \n",
       "2      2014-09-24     Amazon   52802720          16.4105    16.2085   \n",
       "3      2014-09-25     Amazon   58573060          16.0965    16.3995   \n",
       "4      2014-09-26     Amazon   72707740          16.1605    16.0300   \n",
       "...           ...        ...        ...              ...        ...   \n",
       "15097  2024-09-16      Tesla   54323000         226.7800   229.3000   \n",
       "15098  2024-09-17      Tesla   66761640         227.8700   229.4500   \n",
       "15099  2024-09-18      Tesla   78010200         227.2000   230.0900   \n",
       "15100  2024-09-19      Tesla  102694600         243.9200   234.0000   \n",
       "15101  2024-09-20      Tesla   99879070         238.2500   241.5200   \n",
       "\n",
       "       High in $  Low in $  \n",
       "0        16.4745   16.4745  \n",
       "1        16.3800   16.3800  \n",
       "2        16.4720   16.4720  \n",
       "3        16.4270   16.4270  \n",
       "4        16.1750   16.1750  \n",
       "...          ...       ...  \n",
       "15097   229.9600  223.5300  \n",
       "15098   234.5700  226.5533  \n",
       "15099   235.6800  226.8800  \n",
       "15100   244.2400  232.1300  \n",
       "15101   243.9900  235.9200  \n",
       "\n",
       "[15102 rows x 7 columns]"
      ]
     },
     "execution_count": 2,
     "metadata": {},
     "output_type": "execute_result"
    }
   ],
   "source": [
    "path = r'/Users/matthewabrams/Desktop/Stocks Data/'\n",
    "stocks = pd.read_csv(os.path.join(path, 'Stock Datasets/New Files/6_Stocks_Transformed.csv'), index_col = False)\n",
    "stocks.drop(columns =['Unnamed: 0', 'MA_Six_Months', 'MA_One_Year'], inplace = True)\n",
    "stocks"
   ]
  },
  {
   "cell_type": "code",
   "execution_count": 3,
   "id": "df6303ad",
   "metadata": {},
   "outputs": [
    {
     "data": {
      "image/png": "[encoded data removed]",
      "text/plain": [
       "<Figure size 864x432 with 2 Axes>"
      ]
     },
     "metadata": {
      "needs_background": "light"
     },
     "output_type": "display_data"
    }
   ],
   "source": [
    "# Heat Map for Visualization Correlations\n",
    "\n",
    "plt.figure(figsize=(12,6))\n",
    "sns.heatmap(stocks.corr(),cmap = 'Reds', annot = True)\n",
    "plt.show()"
   ]
  },
  {
   "cell_type": "code",
   "execution_count": 4,
   "id": "e0cc71e3",
   "metadata": {},
   "outputs": [],
   "source": [
    "# Splitting the dataset 80% training and 20% testing\n",
    "X = stocks[['Volume', 'Open in $', 'High in $', 'Low in $']].values\n",
    "y = stocks['Close/Last in $'].values"
   ]
  },
  {
   "cell_type": "code",
   "execution_count": 5,
   "id": "f55a1761",
   "metadata": {},
   "outputs": [],
   "source": [
    "X_train, X_test, y_train, y_test = train_test_split(X, y, test_size = 0.2, random_state = 0)"
   ]
  },
  {
   "cell_type": "code",
   "execution_count": 6,
   "id": "509e584c",
   "metadata": {},
   "outputs": [],
   "source": [
    "# Creating regression model\n",
    "regressor = LinearRegression()\n",
    "\n",
    "# Fit linear regression model\n",
    "model = regressor.fit(X_train, y_train)\n",
    "\n",
    "# Use model to make prediction\n",
    "y_pred = regressor.predict(X_test)"
   ]
  },
  {
   "cell_type": "code",
   "execution_count": 7,
   "id": "f6d198f2",
   "metadata": {},
   "outputs": [
    {
     "name": "stdout",
     "output_type": "stream",
     "text": [
      "      Actual_Price  Predicted_Price\n",
      "0         338.9200       338.028090\n",
      "1          62.3000        62.508534\n",
      "2          39.0225        38.848777\n",
      "3         496.1000       494.614969\n",
      "4          95.4775        99.924720\n",
      "...            ...              ...\n",
      "3016       43.5225        43.199841\n",
      "3017      202.0200       202.671207\n",
      "3018       14.5617        14.319951\n",
      "3019       13.4413        12.972736\n",
      "3020       15.3833        14.698770\n",
      "\n",
      "[3021 rows x 2 columns]\n"
     ]
    }
   ],
   "source": [
    "# With the test predictions complete, next step is to compare them (table of Actual Prices vs Predicted Prices)\n",
    "# With the actual output values for X_test by organizing them in a dataframeformat\n",
    "\n",
    "predicted = regressor.predict(X_test)\n",
    "dframe = pd.DataFrame(y_test,predicted)\n",
    "dfr = pd.DataFrame({'Actual_Price':y_test,'Predicted_Price':predicted})\n",
    "print(dfr)"
   ]
  },
  {
   "cell_type": "code",
   "execution_count": 8,
   "id": "516611b4",
   "metadata": {},
   "outputs": [
    {
     "data": {
      "text/plain": [
       "<matplotlib.legend.Legend at 0x7fed7a2015b0>"
      ]
     },
     "execution_count": 8,
     "metadata": {},
     "output_type": "execute_result"
    },
    {
     "data": {
      "image/png": "[encoded data removed]",
      "text/plain": [
       "<Figure size 576x576 with 1 Axes>"
      ]
     },
     "metadata": {
      "needs_background": "light"
     },
     "output_type": "display_data"
    }
   ],
   "source": [
    "plt.figure(figsize = (8,8))\n",
    "plt.ylabel('Closing Price Per Share')\n",
    "plt.plot(dfr.head(15))\n",
    "plt.legend(['Actual_Price', 'Predicted_Price'])"
   ]
  },
  {
   "cell_type": "code",
   "execution_count": 9,
   "id": "777533f7",
   "metadata": {},
   "outputs": [
    {
     "data": {
      "text/plain": [
       "<AxesSubplot:>"
      ]
     },
     "execution_count": 9,
     "metadata": {},
     "output_type": "execute_result"
    },
    {
     "data": {
      "image/png": "[encoded data removed]",
      "text/plain": [
       "<Figure size 432x288 with 1 Axes>"
      ]
     },
     "metadata": {
      "needs_background": "light"
     },
     "output_type": "display_data"
    }
   ],
   "source": [
    "# Graph first 15 values\n",
    "\n",
    "graph = dfr.head(15)\n",
    "graph.plot(kind = 'bar')"
   ]
  },
  {
   "cell_type": "code",
   "execution_count": 10,
   "id": "88217180",
   "metadata": {},
   "outputs": [],
   "source": [
    "# The predicted prices are extremely close to the actual prices"
   ]
  },
  {
   "cell_type": "code",
   "execution_count": 11,
   "id": "e18248e1",
   "metadata": {},
   "outputs": [],
   "source": [
    "# Extreme Value Checks"
   ]
  },
  {
   "cell_type": "code",
   "execution_count": 12,
   "id": "e95f7113",
   "metadata": {},
   "outputs": [
    {
     "data": {
      "text/plain": [
       "165.61939324592768"
      ]
     },
     "execution_count": 12,
     "metadata": {},
     "output_type": "execute_result"
    }
   ],
   "source": [
    "stocks['Close/Last in $'].mean()"
   ]
  },
  {
   "cell_type": "code",
   "execution_count": 13,
   "id": "1f94b7a6",
   "metadata": {},
   "outputs": [
    {
     "data": {
      "text/plain": [
       "137.45943828385884"
      ]
     },
     "execution_count": 13,
     "metadata": {},
     "output_type": "execute_result"
    }
   ],
   "source": [
    "stocks['Close/Last in $'].std()"
   ]
  },
  {
   "cell_type": "code",
   "execution_count": 14,
   "id": "343fd2da",
   "metadata": {},
   "outputs": [
    {
     "data": {
      "text/plain": [
       "440.53826981364534"
      ]
     },
     "execution_count": 14,
     "metadata": {},
     "output_type": "execute_result"
    }
   ],
   "source": [
    "# Determining upper limit for outliers that are 2 standard deviations of the mean\n",
    "\n",
    "upper_limit_1 = stocks['Close/Last in $'].mean() + 2*(stocks['Close/Last in $'].std())\n",
    "upper_limit_1"
   ]
  },
  {
   "cell_type": "code",
   "execution_count": 15,
   "id": "8eac1299",
   "metadata": {},
   "outputs": [
    {
     "data": {
      "text/plain": [
       "-109.29948332179"
      ]
     },
     "execution_count": 15,
     "metadata": {},
     "output_type": "execute_result"
    }
   ],
   "source": [
    "# Determining lower limit for outliers that are 2 standard deviations of the mean\n",
    "\n",
    "lower_limit_1 = stocks['Close/Last in $'].mean() - 2*(stocks['Close/Last in $'].std())\n",
    "lower_limit_1"
   ]
  },
  {
   "cell_type": "code",
   "execution_count": 16,
   "id": "f89e431c",
   "metadata": {},
   "outputs": [
    {
     "data": {
      "text/plain": [
       "706.91"
      ]
     },
     "execution_count": 16,
     "metadata": {},
     "output_type": "execute_result"
    }
   ],
   "source": [
    "stocks['Close/Last in $'].max()"
   ]
  },
  {
   "cell_type": "code",
   "execution_count": 17,
   "id": "c1d495ea",
   "metadata": {},
   "outputs": [
    {
     "data": {
      "text/plain": [
       "0.9453714739769566"
      ]
     },
     "execution_count": 17,
     "metadata": {},
     "output_type": "execute_result"
    }
   ],
   "source": [
    "# Determing the percentage of values under 'Close/Last in $' column that are not outliers\n",
    "# Dividing the number of values between 0 and upper limit and the total number of observations\n",
    "\n",
    "len(stocks[stocks['Close/Last in $']<upper_limit_1])/len(stocks)"
   ]
  },
  {
   "cell_type": "code",
   "execution_count": 18,
   "id": "430b8ce2",
   "metadata": {},
   "outputs": [],
   "source": [
    "# About 5% of values under Close/Last in $ column are outliers"
   ]
  },
  {
   "cell_type": "code",
   "execution_count": 19,
   "id": "260165af",
   "metadata": {},
   "outputs": [
    {
     "data": {
      "text/plain": [
       "62084609.93034035"
      ]
     },
     "execution_count": 19,
     "metadata": {},
     "output_type": "execute_result"
    }
   ],
   "source": [
    "stocks['Volume'].mean()"
   ]
  },
  {
   "cell_type": "code",
   "execution_count": 20,
   "id": "b74014f0",
   "metadata": {},
   "outputs": [
    {
     "data": {
      "text/plain": [
       "63324480.40487809"
      ]
     },
     "execution_count": 20,
     "metadata": {},
     "output_type": "execute_result"
    }
   ],
   "source": [
    "stocks['Volume'].std()"
   ]
  },
  {
   "cell_type": "code",
   "execution_count": 21,
   "id": "bd901e39",
   "metadata": {},
   "outputs": [
    {
     "data": {
      "text/plain": [
       "188733570.7400965"
      ]
     },
     "execution_count": 21,
     "metadata": {},
     "output_type": "execute_result"
    }
   ],
   "source": [
    "# Determining upper limit for outliers that are 2 standard deviations of the mean\n",
    "\n",
    "upper_limit_2 = stocks['Volume'].mean() + 2*(stocks['Volume'].std())\n",
    "upper_limit_2"
   ]
  },
  {
   "cell_type": "code",
   "execution_count": 22,
   "id": "0c6bedac",
   "metadata": {},
   "outputs": [
    {
     "data": {
      "text/plain": [
       "-64564350.879415825"
      ]
     },
     "execution_count": 22,
     "metadata": {},
     "output_type": "execute_result"
    }
   ],
   "source": [
    "# Determining upper limit for outliers that are 2 standard deviations of the mean\n",
    "\n",
    "lower_limit_2 = stocks['Volume'].mean() - 2*(stocks['Volume'].std())\n",
    "lower_limit_2 "
   ]
  },
  {
   "cell_type": "code",
   "execution_count": 23,
   "id": "c8b4b584",
   "metadata": {},
   "outputs": [
    {
     "data": {
      "text/plain": [
       "914080943"
      ]
     },
     "execution_count": 23,
     "metadata": {},
     "output_type": "execute_result"
    }
   ],
   "source": [
    "stocks['Volume'].max()"
   ]
  },
  {
   "cell_type": "code",
   "execution_count": 24,
   "id": "ccb85b92",
   "metadata": {},
   "outputs": [
    {
     "data": {
      "text/plain": [
       "0.9547079856972587"
      ]
     },
     "execution_count": 24,
     "metadata": {},
     "output_type": "execute_result"
    }
   ],
   "source": [
    "# Determing the percentage of values under Volume column that are not outliers\n",
    "# Dividing the number of values between 0 and upper limit and the total number of observations\n",
    "\n",
    "len(stocks[stocks['Volume']<upper_limit_2])/len(stocks)"
   ]
  },
  {
   "cell_type": "code",
   "execution_count": 25,
   "id": "520f3884",
   "metadata": {},
   "outputs": [],
   "source": [
    "# About 5% of values under Volume in $ column are outliers"
   ]
  },
  {
   "cell_type": "code",
   "execution_count": 26,
   "id": "26c76dd2",
   "metadata": {},
   "outputs": [],
   "source": [
    "# Original Hypothesis: If number of shares traded increases, the closing price decreases."
   ]
  },
  {
   "cell_type": "code",
   "execution_count": 27,
   "id": "afd55886",
   "metadata": {},
   "outputs": [
    {
     "data": {
      "image/png": "[encoded data removed]",
      "text/plain": [
       "<Figure size 432x288 with 1 Axes>"
      ]
     },
     "metadata": {
      "needs_background": "light"
     },
     "output_type": "display_data"
    }
   ],
   "source": [
    "# Create a scatterplot using matplotlib for another look at how the chosen variables plot against each other.\n",
    "\n",
    "stocks.plot(x = 'Volume' , y ='Close/Last in $', style='o') # The style option creates a scatterplot; without it, we only have lines.\n",
    "plt.title('# of Shares Traded vs Closing Price Per Share', fontsize = 10, fontweight = 'bold')  \n",
    "plt.xlabel('Volume', fontsize = 10, fontweight = 'bold')  \n",
    "plt.ylabel('Closing Price', fontsize = 10, fontweight = 'bold')  \n",
    "plt.show()"
   ]
  },
  {
   "cell_type": "code",
   "execution_count": 28,
   "id": "4c917ba8",
   "metadata": {},
   "outputs": [],
   "source": [
    "# Reshape the variables into NumPy arrays and put them into separate objects.\n",
    "\n",
    "X1 = stocks['Volume'].values.reshape(-1,1)\n",
    "y1 = stocks['Close/Last in $'].values.reshape(-1,1)"
   ]
  },
  {
   "cell_type": "code",
   "execution_count": 29,
   "id": "8b193931",
   "metadata": {},
   "outputs": [],
   "source": [
    "# Split data into a training set and a test set.\n",
    "\n",
    "X1_train, X1_test, y1_train, y1_test = train_test_split(X1, y1, test_size=0.2, random_state=0)"
   ]
  },
  {
   "cell_type": "code",
   "execution_count": 30,
   "id": "b8531127",
   "metadata": {},
   "outputs": [
    {
     "data": {
      "text/plain": [
       "LinearRegression()"
      ]
     },
     "execution_count": 30,
     "metadata": {},
     "output_type": "execute_result"
    }
   ],
   "source": [
    "# Create a regression object.\n",
    "\n",
    "regression = LinearRegression()  # This is the regression object, which will be fit onto the training set.\n",
    "\n",
    "# Fit the regression object onto the training set.\n",
    "\n",
    "regression.fit(X1_train, y1_train)"
   ]
  },
  {
   "cell_type": "code",
   "execution_count": 31,
   "id": "5954c750",
   "metadata": {},
   "outputs": [],
   "source": [
    "# Predict the values of y using X.\n",
    "\n",
    "y1_predicted = regression.predict(X1_test)"
   ]
  },
  {
   "cell_type": "code",
   "execution_count": 32,
   "id": "fbff401d",
   "metadata": {},
   "outputs": [
    {
     "data": {
      "image/png": "[encoded data removed]",
      "text/plain": [
       "<Figure size 432x288 with 1 Axes>"
      ]
     },
     "metadata": {
      "needs_background": "light"
     },
     "output_type": "display_data"
    }
   ],
   "source": [
    "# Create a plot that shows the regression line from the model on the test set.\n",
    "\n",
    "plot_test = plt\n",
    "plot_test.scatter(X1_test, y1_test, color= 'gray', s = 15)\n",
    "plot_test.plot(X1_test, y1_predicted, color= 'blue', linewidth = 3)\n",
    "plot_test.title('# of Shares Traded vs Closing Price (Testing Set)', fontsize = 10, fontweight = 'bold')\n",
    "plot_test.xlabel('Volume', fontsize = 10, fontweight = 'bold')\n",
    "x_ticks = np.arange(0, 300, 50)\n",
    "plot_test.ylabel('Closing Price', fontsize = 10, fontweight = 'bold')\n",
    "plot_test.show()"
   ]
  },
  {
   "cell_type": "code",
   "execution_count": null,
   "id": "52267bb2",
   "metadata": {},
   "outputs": [],
   "source": [
    "# Create objects that contain the model summary statistics.\n",
    "\n",
    "rmse = mean_squared_error(y1_test, y1_predicted).round() # This is the mean squared error\n",
    "r2 = r2_score(y1_test, y1_predicted).round(2) # This is the R2 score. "
   ]
  },
  {
   "cell_type": "code",
   "execution_count": null,
   "id": "9f9b87a5",
   "metadata": {},
   "outputs": [],
   "source": [
    "# Print the model summary statistics. This is where you evaluate the performance of the model.\n",
    "\n",
    "print('Slope:' ,regression.coef_.round(1))\n",
    "print('Mean squared error: ', rmse)\n",
    "print('R2 score: ', r2)"
   ]
  },
  {
   "cell_type": "code",
   "execution_count": null,
   "id": "0c881ce1",
   "metadata": {},
   "outputs": [],
   "source": [
    "# Since this linear regression model is about 24% effective for my testing set, it's not the best fit for my data. \n",
    "# This could be due to data bias or not enough data points to produce significant results. \n",
    "# I'll need a model with more dimensionality to be able to predict what would effect the closing price of a stock"
   ]
  },
  {
   "cell_type": "code",
   "execution_count": null,
   "id": "a99c1333",
   "metadata": {},
   "outputs": [],
   "source": [
    "# Create a dataframe comparing the actual and predicted values of y.\n",
    "\n",
    "data = pd.DataFrame({'Actual': y1_test.flatten(), 'Predicted': y1_predicted.flatten()})\n",
    "data.head(30)"
   ]
  },
  {
   "cell_type": "code",
   "execution_count": null,
   "id": "4a8579b4",
   "metadata": {},
   "outputs": [],
   "source": [
    "# The predicted values are extremely far from the actual values"
   ]
  },
  {
   "cell_type": "code",
   "execution_count": null,
   "id": "cdedbdca",
   "metadata": {},
   "outputs": [],
   "source": [
    "# Compare how the regression fits the training set\n",
    "y1_predicted_train = regression.predict(X1_train) # This is predicting X_train!"
   ]
  },
  {
   "cell_type": "code",
   "execution_count": null,
   "id": "89917422",
   "metadata": {},
   "outputs": [],
   "source": [
    "rmse = mean_squared_error(y1_train, y1_predicted_train).round()\n",
    "r2 = r2_score(y1_train, y1_predicted_train).round(2)"
   ]
  },
  {
   "cell_type": "code",
   "execution_count": null,
   "id": "3e10c235",
   "metadata": {},
   "outputs": [],
   "source": [
    "print('Slope:' ,regression.coef_.round(1))\n",
    "print('Mean squared error: ', rmse)\n",
    "print('R2 score: ', r2)"
   ]
  },
  {
   "cell_type": "code",
   "execution_count": null,
   "id": "e2043802",
   "metadata": {},
   "outputs": [],
   "source": [
    "# Visualizing the training set results.\n",
    "\n",
    "plot_test = plt\n",
    "plot_test.scatter(X1_train, y1_train, color='red', s = 15)\n",
    "plot_test.plot(X1_train, y1_predicted_train, color='blue', linewidth =3)\n",
    "plot_test.title('# of Shares Traded vs Closing Price (Training Set)', fontsize = 10, fontweight = 'bold')\n",
    "plot_test.xlabel('Volume', fontsize = 10, fontweight = 'bold')\n",
    "x_ticks = np.arange(0, 300, 50)\n",
    "plot_test.ylabel('Closing Price', fontsize = 10, fontweight = 'bold')\n",
    "plot_test.show()"
   ]
  },
  {
   "cell_type": "code",
   "execution_count": null,
   "id": "df1cb276",
   "metadata": {},
   "outputs": [],
   "source": [
    "# This linear regression model is about 27% effective for my training set, not too much a difference from my testing set"
   ]
  }
 ],
 "metadata": {
  "kernelspec": {
   "display_name": "Python 3 (ipykernel)",
   "language": "python",
   "name": "python3"
  },
  "language_info": {
   "codemirror_mode": {
    "name": "ipython",
    "version": 3
   },
   "file_extension": ".py",
   "mimetype": "text/x-python",
   "name": "python",
   "nbconvert_exporter": "python",
   "pygments_lexer": "ipython3",
   "version": "3.9.7"
  }
 },
 "nbformat": 4,
 "nbformat_minor": 5
}

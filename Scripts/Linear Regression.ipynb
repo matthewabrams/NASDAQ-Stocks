{
 "cells": [
  {
   "cell_type": "code",
   "execution_count": 1,
   "id": "00ce15dd",
   "metadata": {},
   "outputs": [],
   "source": [
    "# Importing libraries\n",
    "\n",
    "import pandas as pd\n",
    "import numpy as np\n",
    "import os\n",
    "from datetime import datetime\n",
    "import matplotlib.pyplot as plt\n",
    "import seaborn as sns\n",
    "from sklearn.model_selection import train_test_split\n",
    "from sklearn.linear_model import LinearRegression\n",
    "from sklearn.metrics import confusion_matrix, accuracy_score\n",
    "from sklearn.metrics import mean_squared_error, r2_score"
   ]
  },
  {
   "cell_type": "code",
   "execution_count": 2,
   "id": "e7be52bd",
   "metadata": {},
   "outputs": [
    {
     "data": {
      "text/html": [
       "<div>\n",
       "<style scoped>\n",
       "    .dataframe tbody tr th:only-of-type {\n",
       "        vertical-align: middle;\n",
       "    }\n",
       "\n",
       "    .dataframe tbody tr th {\n",
       "        vertical-align: top;\n",
       "    }\n",
       "\n",
       "    .dataframe thead th {\n",
       "        text-align: right;\n",
       "    }\n",
       "</style>\n",
       "<table border=\"1\" class=\"dataframe\">\n",
       "  <thead>\n",
       "    <tr style=\"text-align: right;\">\n",
       "      <th></th>\n",
       "      <th>Date</th>\n",
       "      <th>Stock_Name</th>\n",
       "      <th>Volume</th>\n",
       "      <th>Close/Last in $</th>\n",
       "      <th>Open in $</th>\n",
       "      <th>High in $</th>\n",
       "      <th>Low in $</th>\n",
       "    </tr>\n",
       "  </thead>\n",
       "  <tbody>\n",
       "    <tr>\n",
       "      <th>0</th>\n",
       "      <td>2014-09-22</td>\n",
       "      <td>Amazon</td>\n",
       "      <td>62189780</td>\n",
       "      <td>16.2250</td>\n",
       "      <td>16.4245</td>\n",
       "      <td>16.4745</td>\n",
       "      <td>16.4745</td>\n",
       "    </tr>\n",
       "    <tr>\n",
       "      <th>1</th>\n",
       "      <td>2014-09-23</td>\n",
       "      <td>Amazon</td>\n",
       "      <td>46972460</td>\n",
       "      <td>16.1815</td>\n",
       "      <td>16.1230</td>\n",
       "      <td>16.3800</td>\n",
       "      <td>16.3800</td>\n",
       "    </tr>\n",
       "    <tr>\n",
       "      <th>2</th>\n",
       "      <td>2014-09-24</td>\n",
       "      <td>Amazon</td>\n",
       "      <td>52802720</td>\n",
       "      <td>16.4105</td>\n",
       "      <td>16.2085</td>\n",
       "      <td>16.4720</td>\n",
       "      <td>16.4720</td>\n",
       "    </tr>\n",
       "    <tr>\n",
       "      <th>3</th>\n",
       "      <td>2014-09-25</td>\n",
       "      <td>Amazon</td>\n",
       "      <td>58573060</td>\n",
       "      <td>16.0965</td>\n",
       "      <td>16.3995</td>\n",
       "      <td>16.4270</td>\n",
       "      <td>16.4270</td>\n",
       "    </tr>\n",
       "    <tr>\n",
       "      <th>4</th>\n",
       "      <td>2014-09-26</td>\n",
       "      <td>Amazon</td>\n",
       "      <td>72707740</td>\n",
       "      <td>16.1605</td>\n",
       "      <td>16.0300</td>\n",
       "      <td>16.1750</td>\n",
       "      <td>16.1750</td>\n",
       "    </tr>\n",
       "    <tr>\n",
       "      <th>...</th>\n",
       "      <td>...</td>\n",
       "      <td>...</td>\n",
       "      <td>...</td>\n",
       "      <td>...</td>\n",
       "      <td>...</td>\n",
       "      <td>...</td>\n",
       "      <td>...</td>\n",
       "    </tr>\n",
       "    <tr>\n",
       "      <th>15097</th>\n",
       "      <td>2024-09-16</td>\n",
       "      <td>Tesla</td>\n",
       "      <td>54323000</td>\n",
       "      <td>226.7800</td>\n",
       "      <td>229.3000</td>\n",
       "      <td>229.9600</td>\n",
       "      <td>223.5300</td>\n",
       "    </tr>\n",
       "    <tr>\n",
       "      <th>15098</th>\n",
       "      <td>2024-09-17</td>\n",
       "      <td>Tesla</td>\n",
       "      <td>66761640</td>\n",
       "      <td>227.8700</td>\n",
       "      <td>229.4500</td>\n",
       "      <td>234.5700</td>\n",
       "      <td>226.5533</td>\n",
       "    </tr>\n",
       "    <tr>\n",
       "      <th>15099</th>\n",
       "      <td>2024-09-18</td>\n",
       "      <td>Tesla</td>\n",
       "      <td>78010200</td>\n",
       "      <td>227.2000</td>\n",
       "      <td>230.0900</td>\n",
       "      <td>235.6800</td>\n",
       "      <td>226.8800</td>\n",
       "    </tr>\n",
       "    <tr>\n",
       "      <th>15100</th>\n",
       "      <td>2024-09-19</td>\n",
       "      <td>Tesla</td>\n",
       "      <td>102694600</td>\n",
       "      <td>243.9200</td>\n",
       "      <td>234.0000</td>\n",
       "      <td>244.2400</td>\n",
       "      <td>232.1300</td>\n",
       "    </tr>\n",
       "    <tr>\n",
       "      <th>15101</th>\n",
       "      <td>2024-09-20</td>\n",
       "      <td>Tesla</td>\n",
       "      <td>99879070</td>\n",
       "      <td>238.2500</td>\n",
       "      <td>241.5200</td>\n",
       "      <td>243.9900</td>\n",
       "      <td>235.9200</td>\n",
       "    </tr>\n",
       "  </tbody>\n",
       "</table>\n",
       "<p>15102 rows × 7 columns</p>\n",
       "</div>"
      ],
      "text/plain": [
       "             Date Stock_Name     Volume  Close/Last in $  Open in $  \\\n",
       "0      2014-09-22     Amazon   62189780          16.2250    16.4245   \n",
       "1      2014-09-23     Amazon   46972460          16.1815    16.1230   \n",
       "2      2014-09-24     Amazon   52802720          16.4105    16.2085   \n",
       "3      2014-09-25     Amazon   58573060          16.0965    16.3995   \n",
       "4      2014-09-26     Amazon   72707740          16.1605    16.0300   \n",
       "...           ...        ...        ...              ...        ...   \n",
       "15097  2024-09-16      Tesla   54323000         226.7800   229.3000   \n",
       "15098  2024-09-17      Tesla   66761640         227.8700   229.4500   \n",
       "15099  2024-09-18      Tesla   78010200         227.2000   230.0900   \n",
       "15100  2024-09-19      Tesla  102694600         243.9200   234.0000   \n",
       "15101  2024-09-20      Tesla   99879070         238.2500   241.5200   \n",
       "\n",
       "       High in $  Low in $  \n",
       "0        16.4745   16.4745  \n",
       "1        16.3800   16.3800  \n",
       "2        16.4720   16.4720  \n",
       "3        16.4270   16.4270  \n",
       "4        16.1750   16.1750  \n",
       "...          ...       ...  \n",
       "15097   229.9600  223.5300  \n",
       "15098   234.5700  226.5533  \n",
       "15099   235.6800  226.8800  \n",
       "15100   244.2400  232.1300  \n",
       "15101   243.9900  235.9200  \n",
       "\n",
       "[15102 rows x 7 columns]"
      ]
     },
     "execution_count": 2,
     "metadata": {},
     "output_type": "execute_result"
    }
   ],
   "source": [
    "path = r'/Users/matthewabrams/Desktop/Stocks Data/'\n",
    "stocks = pd.read_csv(os.path.join(path, 'Stock Datasets/New Files/6_Stocks_Transformed.csv'), index_col = False)\n",
    "stocks.drop(columns =['Unnamed: 0', 'MA_Six_Months', 'MA_One_Year'], inplace = True)\n",
    "stocks"
   ]
  },
  {
   "cell_type": "code",
   "execution_count": 3,
   "id": "90e408ab",
   "metadata": {},
   "outputs": [
    {
     "data": {
      "text/html": [
       "<div>\n",
       "<style scoped>\n",
       "    .dataframe tbody tr th:only-of-type {\n",
       "        vertical-align: middle;\n",
       "    }\n",
       "\n",
       "    .dataframe tbody tr th {\n",
       "        vertical-align: top;\n",
       "    }\n",
       "\n",
       "    .dataframe thead th {\n",
       "        text-align: right;\n",
       "    }\n",
       "</style>\n",
       "<table border=\"1\" class=\"dataframe\">\n",
       "  <thead>\n",
       "    <tr style=\"text-align: right;\">\n",
       "      <th></th>\n",
       "      <th>Date</th>\n",
       "      <th>Stock_Name</th>\n",
       "      <th>Volume</th>\n",
       "      <th>Close/Last in $</th>\n",
       "      <th>Open in $</th>\n",
       "      <th>High in $</th>\n",
       "      <th>Low in $</th>\n",
       "    </tr>\n",
       "  </thead>\n",
       "  <tbody>\n",
       "    <tr>\n",
       "      <th>2517</th>\n",
       "      <td>2014-09-22</td>\n",
       "      <td>Apple</td>\n",
       "      <td>209686640</td>\n",
       "      <td>25.2650</td>\n",
       "      <td>25.4500</td>\n",
       "      <td>25.5350</td>\n",
       "      <td>25.5350</td>\n",
       "    </tr>\n",
       "    <tr>\n",
       "      <th>2518</th>\n",
       "      <td>2014-09-23</td>\n",
       "      <td>Apple</td>\n",
       "      <td>253023440</td>\n",
       "      <td>25.6600</td>\n",
       "      <td>25.1500</td>\n",
       "      <td>25.7350</td>\n",
       "      <td>25.7350</td>\n",
       "    </tr>\n",
       "    <tr>\n",
       "      <th>2519</th>\n",
       "      <td>2014-09-24</td>\n",
       "      <td>Apple</td>\n",
       "      <td>239897040</td>\n",
       "      <td>25.4375</td>\n",
       "      <td>25.5400</td>\n",
       "      <td>25.7125</td>\n",
       "      <td>25.7125</td>\n",
       "    </tr>\n",
       "    <tr>\n",
       "      <th>2520</th>\n",
       "      <td>2014-09-25</td>\n",
       "      <td>Apple</td>\n",
       "      <td>398757200</td>\n",
       "      <td>24.4675</td>\n",
       "      <td>25.1275</td>\n",
       "      <td>25.1775</td>\n",
       "      <td>25.1775</td>\n",
       "    </tr>\n",
       "    <tr>\n",
       "      <th>2521</th>\n",
       "      <td>2014-09-26</td>\n",
       "      <td>Apple</td>\n",
       "      <td>249107080</td>\n",
       "      <td>25.1875</td>\n",
       "      <td>24.6325</td>\n",
       "      <td>25.1875</td>\n",
       "      <td>25.1875</td>\n",
       "    </tr>\n",
       "    <tr>\n",
       "      <th>...</th>\n",
       "      <td>...</td>\n",
       "      <td>...</td>\n",
       "      <td>...</td>\n",
       "      <td>...</td>\n",
       "      <td>...</td>\n",
       "      <td>...</td>\n",
       "      <td>...</td>\n",
       "    </tr>\n",
       "    <tr>\n",
       "      <th>5029</th>\n",
       "      <td>2024-09-16</td>\n",
       "      <td>Apple</td>\n",
       "      <td>59357430</td>\n",
       "      <td>216.3200</td>\n",
       "      <td>216.5400</td>\n",
       "      <td>217.2200</td>\n",
       "      <td>217.2200</td>\n",
       "    </tr>\n",
       "    <tr>\n",
       "      <th>5030</th>\n",
       "      <td>2024-09-17</td>\n",
       "      <td>Apple</td>\n",
       "      <td>45519340</td>\n",
       "      <td>216.7900</td>\n",
       "      <td>215.7500</td>\n",
       "      <td>216.9000</td>\n",
       "      <td>216.9000</td>\n",
       "    </tr>\n",
       "    <tr>\n",
       "      <th>5031</th>\n",
       "      <td>2024-09-18</td>\n",
       "      <td>Apple</td>\n",
       "      <td>59894930</td>\n",
       "      <td>220.6900</td>\n",
       "      <td>217.5500</td>\n",
       "      <td>222.7100</td>\n",
       "      <td>222.7100</td>\n",
       "    </tr>\n",
       "    <tr>\n",
       "      <th>5032</th>\n",
       "      <td>2024-09-19</td>\n",
       "      <td>Apple</td>\n",
       "      <td>66781320</td>\n",
       "      <td>228.8700</td>\n",
       "      <td>224.9900</td>\n",
       "      <td>229.8200</td>\n",
       "      <td>229.8200</td>\n",
       "    </tr>\n",
       "    <tr>\n",
       "      <th>5033</th>\n",
       "      <td>2024-09-20</td>\n",
       "      <td>Apple</td>\n",
       "      <td>318679900</td>\n",
       "      <td>228.2000</td>\n",
       "      <td>229.9700</td>\n",
       "      <td>233.0900</td>\n",
       "      <td>233.0900</td>\n",
       "    </tr>\n",
       "  </tbody>\n",
       "</table>\n",
       "<p>2517 rows × 7 columns</p>\n",
       "</div>"
      ],
      "text/plain": [
       "            Date Stock_Name     Volume  Close/Last in $  Open in $  High in $  \\\n",
       "2517  2014-09-22      Apple  209686640          25.2650    25.4500    25.5350   \n",
       "2518  2014-09-23      Apple  253023440          25.6600    25.1500    25.7350   \n",
       "2519  2014-09-24      Apple  239897040          25.4375    25.5400    25.7125   \n",
       "2520  2014-09-25      Apple  398757200          24.4675    25.1275    25.1775   \n",
       "2521  2014-09-26      Apple  249107080          25.1875    24.6325    25.1875   \n",
       "...          ...        ...        ...              ...        ...        ...   \n",
       "5029  2024-09-16      Apple   59357430         216.3200   216.5400   217.2200   \n",
       "5030  2024-09-17      Apple   45519340         216.7900   215.7500   216.9000   \n",
       "5031  2024-09-18      Apple   59894930         220.6900   217.5500   222.7100   \n",
       "5032  2024-09-19      Apple   66781320         228.8700   224.9900   229.8200   \n",
       "5033  2024-09-20      Apple  318679900         228.2000   229.9700   233.0900   \n",
       "\n",
       "      Low in $  \n",
       "2517   25.5350  \n",
       "2518   25.7350  \n",
       "2519   25.7125  \n",
       "2520   25.1775  \n",
       "2521   25.1875  \n",
       "...        ...  \n",
       "5029  217.2200  \n",
       "5030  216.9000  \n",
       "5031  222.7100  \n",
       "5032  229.8200  \n",
       "5033  233.0900  \n",
       "\n",
       "[2517 rows x 7 columns]"
      ]
     },
     "execution_count": 3,
     "metadata": {},
     "output_type": "execute_result"
    }
   ],
   "source": [
    "# Choosing a stock for linear regression\n",
    "\n",
    "apple_stock = stocks[stocks['Stock_Name']=='Apple']\n",
    "apple_stock"
   ]
  },
  {
   "cell_type": "code",
   "execution_count": 4,
   "id": "df6303ad",
   "metadata": {},
   "outputs": [
    {
     "data": {
      "image/png": "[encoded data removed]",
      "text/plain": [
       "<Figure size 864x432 with 2 Axes>"
      ]
     },
     "metadata": {
      "needs_background": "light"
     },
     "output_type": "display_data"
    }
   ],
   "source": [
    "# Heat Map for Visualization Correlations\n",
    "\n",
    "plt.figure(figsize=(12,6))\n",
    "sns.heatmap(apple_stock.corr(),cmap = 'Reds', annot = True)\n",
    "plt.show()"
   ]
  },
  {
   "cell_type": "code",
   "execution_count": 5,
   "id": "e0cc71e3",
   "metadata": {},
   "outputs": [],
   "source": [
    "# Splitting the dataset 80% training and 20% testing\n",
    "X = apple_stock[['Volume', 'Open in $', 'High in $', 'Low in $']].values\n",
    "y = apple_stock['Close/Last in $'].values"
   ]
  },
  {
   "cell_type": "code",
   "execution_count": 6,
   "id": "f55a1761",
   "metadata": {},
   "outputs": [],
   "source": [
    "X_train, X_test, y_train, y_test = train_test_split(X, y, test_size = 0.2, random_state = 0)"
   ]
  },
  {
   "cell_type": "code",
   "execution_count": 7,
   "id": "509e584c",
   "metadata": {},
   "outputs": [],
   "source": [
    "# Creating regression model\n",
    "regressor = LinearRegression()\n",
    "\n",
    "# Fit linear regression model\n",
    "model = regressor.fit(X_train, y_train)\n",
    "\n",
    "# Use model to make prediction\n",
    "y_pred = regressor.predict(X_test)"
   ]
  },
  {
   "cell_type": "code",
   "execution_count": 8,
   "id": "f6d198f2",
   "metadata": {},
   "outputs": [
    {
     "name": "stdout",
     "output_type": "stream",
     "text": [
      "     Actual_Price  Predicted_Price\n",
      "0         44.2600        44.540189\n",
      "1         55.9925        55.868821\n",
      "2         29.0375        29.000597\n",
      "3         46.3650        46.826819\n",
      "4        174.9100       173.800742\n",
      "..            ...              ...\n",
      "499      145.8500       145.144845\n",
      "500       31.3562        31.065429\n",
      "501       31.7575        31.723602\n",
      "502      182.3100       182.998445\n",
      "503       40.2375        40.394689\n",
      "\n",
      "[504 rows x 2 columns]\n"
     ]
    }
   ],
   "source": [
    "# With the test predictions complete, next step is to compare them (table of Actual Prices vs Predicted Prices)\n",
    "# With the actual output values for X_test by organizing them in a dataframeformat\n",
    "\n",
    "predicted = regressor.predict(X_test)\n",
    "dframe = pd.DataFrame(y_test,predicted)\n",
    "dfr = pd.DataFrame({'Actual_Price':y_test,'Predicted_Price':predicted})\n",
    "print(dfr)"
   ]
  },
  {
   "cell_type": "code",
   "execution_count": 9,
   "id": "516611b4",
   "metadata": {},
   "outputs": [
    {
     "data": {
      "text/plain": [
       "<matplotlib.legend.Legend at 0x7fab383eef10>"
      ]
     },
     "execution_count": 9,
     "metadata": {},
     "output_type": "execute_result"
    },
    {
     "data": {
      "image/png": "[encoded data removed]",
      "text/plain": [
       "<Figure size 576x576 with 1 Axes>"
      ]
     },
     "metadata": {
      "needs_background": "light"
     },
     "output_type": "display_data"
    }
   ],
   "source": [
    "plt.figure(figsize = (8,8))\n",
    "plt.ylabel('Closing Price Per Share')\n",
    "plt.plot(dfr.head(15))\n",
    "plt.legend(['Actual_Price', 'Predicted_Price'])"
   ]
  },
  {
   "cell_type": "code",
   "execution_count": 10,
   "id": "777533f7",
   "metadata": {},
   "outputs": [
    {
     "data": {
      "text/plain": [
       "<AxesSubplot:>"
      ]
     },
     "execution_count": 10,
     "metadata": {},
     "output_type": "execute_result"
    },
    {
     "data": {
      "image/png": "[encoded data removed]",
      "text/plain": [
       "<Figure size 432x288 with 1 Axes>"
      ]
     },
     "metadata": {
      "needs_background": "light"
     },
     "output_type": "display_data"
    }
   ],
   "source": [
    "# Graph first 15 values\n",
    "\n",
    "graph = dfr.head(15)\n",
    "graph.plot(kind = 'bar')"
   ]
  },
  {
   "cell_type": "code",
   "execution_count": 11,
   "id": "88217180",
   "metadata": {},
   "outputs": [],
   "source": [
    "# The predicted prices are extremely close to the actual prices"
   ]
  },
  {
   "cell_type": "code",
   "execution_count": 12,
   "id": "e18248e1",
   "metadata": {},
   "outputs": [],
   "source": [
    "# Extreme Value Checks"
   ]
  },
  {
   "cell_type": "code",
   "execution_count": 13,
   "id": "e95f7113",
   "metadata": {},
   "outputs": [
    {
     "data": {
      "text/plain": [
       "90.5511352800953"
      ]
     },
     "execution_count": 13,
     "metadata": {},
     "output_type": "execute_result"
    }
   ],
   "source": [
    "apple_stock['Close/Last in $'].mean()"
   ]
  },
  {
   "cell_type": "code",
   "execution_count": 14,
   "id": "1f94b7a6",
   "metadata": {},
   "outputs": [
    {
     "data": {
      "text/plain": [
       "61.81149876821072"
      ]
     },
     "execution_count": 14,
     "metadata": {},
     "output_type": "execute_result"
    }
   ],
   "source": [
    "apple_stock['Close/Last in $'].std()"
   ]
  },
  {
   "cell_type": "code",
   "execution_count": 15,
   "id": "343fd2da",
   "metadata": {},
   "outputs": [
    {
     "data": {
      "text/plain": [
       "214.17413281651673"
      ]
     },
     "execution_count": 15,
     "metadata": {},
     "output_type": "execute_result"
    }
   ],
   "source": [
    "# Determining upper limit for outliers that are 2 standard deviations of the mean\n",
    "\n",
    "upper_limit_1 = apple_stock['Close/Last in $'].mean() + 2*(apple_stock['Close/Last in $'].std())\n",
    "upper_limit_1"
   ]
  },
  {
   "cell_type": "code",
   "execution_count": 16,
   "id": "8eac1299",
   "metadata": {},
   "outputs": [
    {
     "data": {
      "text/plain": [
       "-33.07186225632614"
      ]
     },
     "execution_count": 16,
     "metadata": {},
     "output_type": "execute_result"
    }
   ],
   "source": [
    "# Determining lower limit for outliers that are 2 standard deviations of the mean\n",
    "\n",
    "lower_limit_1 = apple_stock['Close/Last in $'].mean() - 2*(apple_stock['Close/Last in $'].std())\n",
    "lower_limit_1"
   ]
  },
  {
   "cell_type": "code",
   "execution_count": 17,
   "id": "f89e431c",
   "metadata": {},
   "outputs": [
    {
     "data": {
      "text/plain": [
       "234.82"
      ]
     },
     "execution_count": 17,
     "metadata": {},
     "output_type": "execute_result"
    }
   ],
   "source": [
    "apple_stock['Close/Last in $'].max()"
   ]
  },
  {
   "cell_type": "code",
   "execution_count": 18,
   "id": "c1d495ea",
   "metadata": {},
   "outputs": [
    {
     "data": {
      "text/plain": [
       "0.9773539928486293"
      ]
     },
     "execution_count": 18,
     "metadata": {},
     "output_type": "execute_result"
    }
   ],
   "source": [
    "# Determing the percentage of values under 'Close/Last in $' column that are not outliers\n",
    "# Dividing the number of values between 0 and upper limit and the total number of observations\n",
    "\n",
    "len(apple_stock[apple_stock['Close/Last in $']<upper_limit_1])/len(apple_stock)"
   ]
  },
  {
   "cell_type": "code",
   "execution_count": 19,
   "id": "430b8ce2",
   "metadata": {},
   "outputs": [],
   "source": [
    "# About 2% of values under Close/Last in $ column are outliers"
   ]
  },
  {
   "cell_type": "code",
   "execution_count": 20,
   "id": "260165af",
   "metadata": {},
   "outputs": [
    {
     "data": {
      "text/plain": [
       "121400335.7091776"
      ]
     },
     "execution_count": 20,
     "metadata": {},
     "output_type": "execute_result"
    }
   ],
   "source": [
    "apple_stock['Volume'].mean()"
   ]
  },
  {
   "cell_type": "code",
   "execution_count": 21,
   "id": "b74014f0",
   "metadata": {},
   "outputs": [
    {
     "data": {
      "text/plain": [
       "69463670.86340798"
      ]
     },
     "execution_count": 21,
     "metadata": {},
     "output_type": "execute_result"
    }
   ],
   "source": [
    "apple_stock['Volume'].std()"
   ]
  },
  {
   "cell_type": "code",
   "execution_count": 22,
   "id": "bd901e39",
   "metadata": {},
   "outputs": [
    {
     "data": {
      "text/plain": [
       "260327677.43599355"
      ]
     },
     "execution_count": 22,
     "metadata": {},
     "output_type": "execute_result"
    }
   ],
   "source": [
    "# Determining upper limit for outliers that are 2 standard deviations of the mean\n",
    "\n",
    "upper_limit_2 = apple_stock['Volume'].mean() + 2*(apple_stock['Volume'].std())\n",
    "upper_limit_2"
   ]
  },
  {
   "cell_type": "code",
   "execution_count": 23,
   "id": "0c6bedac",
   "metadata": {},
   "outputs": [
    {
     "data": {
      "text/plain": [
       "-17527006.01763837"
      ]
     },
     "execution_count": 23,
     "metadata": {},
     "output_type": "execute_result"
    }
   ],
   "source": [
    "# Determining upper limit for outliers that are 2 standard deviations of the mean\n",
    "\n",
    "lower_limit_2 = apple_stock['Volume'].mean() - 2*(apple_stock['Volume'].std())\n",
    "lower_limit_2"
   ]
  },
  {
   "cell_type": "code",
   "execution_count": 24,
   "id": "c8b4b584",
   "metadata": {},
   "outputs": [
    {
     "data": {
      "text/plain": [
       "647530000"
      ]
     },
     "execution_count": 24,
     "metadata": {},
     "output_type": "execute_result"
    }
   ],
   "source": [
    "apple_stock['Volume'].max()"
   ]
  },
  {
   "cell_type": "code",
   "execution_count": 25,
   "id": "ccb85b92",
   "metadata": {},
   "outputs": [
    {
     "data": {
      "text/plain": [
       "0.9503377036154151"
      ]
     },
     "execution_count": 25,
     "metadata": {},
     "output_type": "execute_result"
    }
   ],
   "source": [
    "# Determing the percentage of values under Volume column that are not outliers\n",
    "# Dividing the number of values between 0 and upper limit and the total number of observations\n",
    "\n",
    "len(apple_stock[apple_stock['Volume']<upper_limit_2])/len(apple_stock)"
   ]
  },
  {
   "cell_type": "code",
   "execution_count": 26,
   "id": "520f3884",
   "metadata": {},
   "outputs": [],
   "source": [
    "# About 5% of values under Volume in $ column are outliers"
   ]
  },
  {
   "cell_type": "code",
   "execution_count": 27,
   "id": "26c76dd2",
   "metadata": {},
   "outputs": [],
   "source": [
    "# Original Hypothesis: If number of shares traded increases, the closing price decreases."
   ]
  },
  {
   "cell_type": "code",
   "execution_count": 28,
   "id": "afd55886",
   "metadata": {},
   "outputs": [
    {
     "data": {
      "image/png": "[encoded data removed]",
      "text/plain": [
       "<Figure size 432x288 with 1 Axes>"
      ]
     },
     "metadata": {
      "needs_background": "light"
     },
     "output_type": "display_data"
    }
   ],
   "source": [
    "# Create a scatterplot using matplotlib for another look at how the chosen variables plot against each other.\n",
    "\n",
    "apple_stock.plot(x = 'Volume' , y ='Close/Last in $', style='o') # The style option creates a scatterplot; without it, we only have lines.\n",
    "plt.title('# of Shares Traded vs Closing Price Per Share', fontsize = 10, fontweight = 'bold')  \n",
    "plt.xlabel('Volume', fontsize = 10, fontweight = 'bold')  \n",
    "plt.ylabel('Closing Price', fontsize = 10, fontweight = 'bold')  \n",
    "plt.show()"
   ]
  },
  {
   "cell_type": "code",
   "execution_count": 29,
   "id": "4c917ba8",
   "metadata": {},
   "outputs": [],
   "source": [
    "# Reshape the variables into NumPy arrays and put them into separate objects.\n",
    "\n",
    "X1 = apple_stock['Volume'].values.reshape(-1,1)\n",
    "y1 = apple_stock['Close/Last in $'].values.reshape(-1,1)"
   ]
  },
  {
   "cell_type": "code",
   "execution_count": 30,
   "id": "8b193931",
   "metadata": {},
   "outputs": [],
   "source": [
    "# Split data into a training set and a test set.\n",
    "\n",
    "X1_train, X1_test, y1_train, y1_test = train_test_split(X1, y1, test_size=0.2, random_state=0)"
   ]
  },
  {
   "cell_type": "code",
   "execution_count": 31,
   "id": "b8531127",
   "metadata": {},
   "outputs": [
    {
     "data": {
      "text/plain": [
       "LinearRegression()"
      ]
     },
     "execution_count": 31,
     "metadata": {},
     "output_type": "execute_result"
    }
   ],
   "source": [
    "# Create a regression object.\n",
    "\n",
    "regression = LinearRegression()  # This is the regression object, which will be fit onto the training set.\n",
    "\n",
    "# Fit the regression object onto the training set.\n",
    "\n",
    "regression.fit(X1_train, y1_train)"
   ]
  },
  {
   "cell_type": "code",
   "execution_count": 32,
   "id": "5954c750",
   "metadata": {},
   "outputs": [],
   "source": [
    "# Predict the values of y using X.\n",
    "\n",
    "y1_predicted = regression.predict(X1_test)"
   ]
  },
  {
   "cell_type": "code",
   "execution_count": 33,
   "id": "fbff401d",
   "metadata": {},
   "outputs": [
    {
     "data": {
      "image/png": "[encoded data removed]",
      "text/plain": [
       "<Figure size 432x288 with 1 Axes>"
      ]
     },
     "metadata": {
      "needs_background": "light"
     },
     "output_type": "display_data"
    }
   ],
   "source": [
    "# Create a plot that shows the regression line from the model on the test set.\n",
    "\n",
    "plot_test = plt\n",
    "plot_test.scatter(X1_test, y1_test, color= 'gray', s = 15)\n",
    "plot_test.plot(X1_test, y1_predicted, color= 'blue', linewidth = 3)\n",
    "plot_test.title('# of Shares Traded vs Closing Price (Testing Set)', fontsize = 10, fontweight = 'bold')\n",
    "plot_test.xlabel('Volume', fontsize = 10, fontweight = 'bold')\n",
    "x_ticks = np.arange(0, 300, 50)\n",
    "plot_test.ylabel('Closing Price', fontsize = 10, fontweight = 'bold')\n",
    "plot_test.show()"
   ]
  },
  {
   "cell_type": "code",
   "execution_count": 34,
   "id": "52267bb2",
   "metadata": {},
   "outputs": [],
   "source": [
    "# Create objects that contain the model summary statistics.\n",
    "\n",
    "rmse = mean_squared_error(y1_test, y1_predicted).round() # This is the mean squared error\n",
    "r2 = r2_score(y1_test, y1_predicted).round(2) # This is the R2 score. "
   ]
  },
  {
   "cell_type": "code",
   "execution_count": 35,
   "id": "9f9b87a5",
   "metadata": {},
   "outputs": [
    {
     "name": "stdout",
     "output_type": "stream",
     "text": [
      "Slope: [[-0.]]\n",
      "Mean squared error:  3046.0\n",
      "R2 score:  0.24\n"
     ]
    }
   ],
   "source": [
    "# Print the model summary statistics. This is where you evaluate the performance of the model.\n",
    "\n",
    "print('Slope:' ,regression.coef_.round(1))\n",
    "print('Mean squared error: ', rmse)\n",
    "print('R2 score: ', r2)"
   ]
  },
  {
   "cell_type": "code",
   "execution_count": 36,
   "id": "0c881ce1",
   "metadata": {},
   "outputs": [],
   "source": [
    "# Since this linear regression model is about 24% effective for my testing set, it's not the best fit for my data. \n",
    "# This could be due to data bias or not enough data points to produce significant results. \n",
    "# I'll need a model with more dimensionality to be able to predict what would effect the closing price of a stock"
   ]
  },
  {
   "cell_type": "code",
   "execution_count": 37,
   "id": "a99c1333",
   "metadata": {},
   "outputs": [
    {
     "data": {
      "text/html": [
       "<div>\n",
       "<style scoped>\n",
       "    .dataframe tbody tr th:only-of-type {\n",
       "        vertical-align: middle;\n",
       "    }\n",
       "\n",
       "    .dataframe tbody tr th {\n",
       "        vertical-align: top;\n",
       "    }\n",
       "\n",
       "    .dataframe thead th {\n",
       "        text-align: right;\n",
       "    }\n",
       "</style>\n",
       "<table border=\"1\" class=\"dataframe\">\n",
       "  <thead>\n",
       "    <tr style=\"text-align: right;\">\n",
       "      <th></th>\n",
       "      <th>Actual</th>\n",
       "      <th>Predicted</th>\n",
       "    </tr>\n",
       "  </thead>\n",
       "  <tbody>\n",
       "    <tr>\n",
       "      <th>0</th>\n",
       "      <td>44.2600</td>\n",
       "      <td>86.183106</td>\n",
       "    </tr>\n",
       "    <tr>\n",
       "      <th>1</th>\n",
       "      <td>55.9925</td>\n",
       "      <td>97.486223</td>\n",
       "    </tr>\n",
       "    <tr>\n",
       "      <th>2</th>\n",
       "      <td>29.0375</td>\n",
       "      <td>92.928292</td>\n",
       "    </tr>\n",
       "    <tr>\n",
       "      <th>3</th>\n",
       "      <td>46.3650</td>\n",
       "      <td>98.731125</td>\n",
       "    </tr>\n",
       "    <tr>\n",
       "      <th>4</th>\n",
       "      <td>174.9100</td>\n",
       "      <td>123.871799</td>\n",
       "    </tr>\n",
       "    <tr>\n",
       "      <th>5</th>\n",
       "      <td>46.7900</td>\n",
       "      <td>118.113027</td>\n",
       "    </tr>\n",
       "    <tr>\n",
       "      <th>6</th>\n",
       "      <td>42.5125</td>\n",
       "      <td>92.543331</td>\n",
       "    </tr>\n",
       "    <tr>\n",
       "      <th>7</th>\n",
       "      <td>165.1200</td>\n",
       "      <td>102.237179</td>\n",
       "    </tr>\n",
       "    <tr>\n",
       "      <th>8</th>\n",
       "      <td>122.7200</td>\n",
       "      <td>86.841825</td>\n",
       "    </tr>\n",
       "    <tr>\n",
       "      <th>9</th>\n",
       "      <td>135.3700</td>\n",
       "      <td>118.470104</td>\n",
       "    </tr>\n",
       "    <tr>\n",
       "      <th>10</th>\n",
       "      <td>24.1125</td>\n",
       "      <td>-3.736440</td>\n",
       "    </tr>\n",
       "    <tr>\n",
       "      <th>11</th>\n",
       "      <td>57.3200</td>\n",
       "      <td>100.989464</td>\n",
       "    </tr>\n",
       "    <tr>\n",
       "      <th>12</th>\n",
       "      <td>28.7500</td>\n",
       "      <td>75.330437</td>\n",
       "    </tr>\n",
       "    <tr>\n",
       "      <th>13</th>\n",
       "      <td>24.2850</td>\n",
       "      <td>91.805232</td>\n",
       "    </tr>\n",
       "    <tr>\n",
       "      <th>14</th>\n",
       "      <td>27.7575</td>\n",
       "      <td>90.683753</td>\n",
       "    </tr>\n",
       "    <tr>\n",
       "      <th>15</th>\n",
       "      <td>27.1850</td>\n",
       "      <td>88.942464</td>\n",
       "    </tr>\n",
       "    <tr>\n",
       "      <th>16</th>\n",
       "      <td>147.5400</td>\n",
       "      <td>123.839586</td>\n",
       "    </tr>\n",
       "    <tr>\n",
       "      <th>17</th>\n",
       "      <td>34.7500</td>\n",
       "      <td>111.664346</td>\n",
       "    </tr>\n",
       "    <tr>\n",
       "      <th>18</th>\n",
       "      <td>150.1900</td>\n",
       "      <td>103.551608</td>\n",
       "    </tr>\n",
       "    <tr>\n",
       "      <th>19</th>\n",
       "      <td>43.2875</td>\n",
       "      <td>94.444868</td>\n",
       "    </tr>\n",
       "    <tr>\n",
       "      <th>20</th>\n",
       "      <td>46.4650</td>\n",
       "      <td>69.014515</td>\n",
       "    </tr>\n",
       "    <tr>\n",
       "      <th>21</th>\n",
       "      <td>148.7900</td>\n",
       "      <td>114.801918</td>\n",
       "    </tr>\n",
       "    <tr>\n",
       "      <th>22</th>\n",
       "      <td>143.8600</td>\n",
       "      <td>117.720004</td>\n",
       "    </tr>\n",
       "    <tr>\n",
       "      <th>23</th>\n",
       "      <td>61.9350</td>\n",
       "      <td>51.480678</td>\n",
       "    </tr>\n",
       "    <tr>\n",
       "      <th>24</th>\n",
       "      <td>35.8750</td>\n",
       "      <td>119.880708</td>\n",
       "    </tr>\n",
       "    <tr>\n",
       "      <th>25</th>\n",
       "      <td>40.7575</td>\n",
       "      <td>19.643398</td>\n",
       "    </tr>\n",
       "    <tr>\n",
       "      <th>26</th>\n",
       "      <td>29.0700</td>\n",
       "      <td>84.469920</td>\n",
       "    </tr>\n",
       "    <tr>\n",
       "      <th>27</th>\n",
       "      <td>35.9100</td>\n",
       "      <td>114.598869</td>\n",
       "    </tr>\n",
       "    <tr>\n",
       "      <th>28</th>\n",
       "      <td>43.5825</td>\n",
       "      <td>114.833401</td>\n",
       "    </tr>\n",
       "    <tr>\n",
       "      <th>29</th>\n",
       "      <td>54.7150</td>\n",
       "      <td>75.728752</td>\n",
       "    </tr>\n",
       "  </tbody>\n",
       "</table>\n",
       "</div>"
      ],
      "text/plain": [
       "      Actual   Predicted\n",
       "0    44.2600   86.183106\n",
       "1    55.9925   97.486223\n",
       "2    29.0375   92.928292\n",
       "3    46.3650   98.731125\n",
       "4   174.9100  123.871799\n",
       "5    46.7900  118.113027\n",
       "6    42.5125   92.543331\n",
       "7   165.1200  102.237179\n",
       "8   122.7200   86.841825\n",
       "9   135.3700  118.470104\n",
       "10   24.1125   -3.736440\n",
       "11   57.3200  100.989464\n",
       "12   28.7500   75.330437\n",
       "13   24.2850   91.805232\n",
       "14   27.7575   90.683753\n",
       "15   27.1850   88.942464\n",
       "16  147.5400  123.839586\n",
       "17   34.7500  111.664346\n",
       "18  150.1900  103.551608\n",
       "19   43.2875   94.444868\n",
       "20   46.4650   69.014515\n",
       "21  148.7900  114.801918\n",
       "22  143.8600  117.720004\n",
       "23   61.9350   51.480678\n",
       "24   35.8750  119.880708\n",
       "25   40.7575   19.643398\n",
       "26   29.0700   84.469920\n",
       "27   35.9100  114.598869\n",
       "28   43.5825  114.833401\n",
       "29   54.7150   75.728752"
      ]
     },
     "execution_count": 37,
     "metadata": {},
     "output_type": "execute_result"
    }
   ],
   "source": [
    "# Create a dataframe comparing the actual and predicted values of y.\n",
    "\n",
    "data = pd.DataFrame({'Actual': y1_test.flatten(), 'Predicted': y1_predicted.flatten()})\n",
    "data.head(30)"
   ]
  },
  {
   "cell_type": "code",
   "execution_count": 38,
   "id": "4a8579b4",
   "metadata": {},
   "outputs": [],
   "source": [
    "# The predicted values are extremely far from the actual values"
   ]
  },
  {
   "cell_type": "code",
   "execution_count": 39,
   "id": "cdedbdca",
   "metadata": {},
   "outputs": [],
   "source": [
    "# Compare how the regression fits the training set\n",
    "y1_predicted_train = regression.predict(X1_train) # This is predicting X_train!"
   ]
  },
  {
   "cell_type": "code",
   "execution_count": 40,
   "id": "89917422",
   "metadata": {},
   "outputs": [],
   "source": [
    "rmse = mean_squared_error(y1_train, y1_predicted_train).round()\n",
    "r2 = r2_score(y1_train, y1_predicted_train).round(2)"
   ]
  },
  {
   "cell_type": "code",
   "execution_count": 41,
   "id": "3e10c235",
   "metadata": {},
   "outputs": [
    {
     "name": "stdout",
     "output_type": "stream",
     "text": [
      "Slope: [[-0.]]\n",
      "Mean squared error:  2733.0\n",
      "R2 score:  0.27\n"
     ]
    }
   ],
   "source": [
    "print('Slope:' ,regression.coef_.round(1))\n",
    "print('Mean squared error: ', rmse)\n",
    "print('R2 score: ', r2)"
   ]
  },
  {
   "cell_type": "code",
   "execution_count": 42,
   "id": "e2043802",
   "metadata": {},
   "outputs": [
    {
     "data": {
      "image/png": "[encoded data removed]",
      "text/plain": [
       "<Figure size 432x288 with 1 Axes>"
      ]
     },
     "metadata": {
      "needs_background": "light"
     },
     "output_type": "display_data"
    }
   ],
   "source": [
    "# Visualizing the training set results.\n",
    "\n",
    "plot_test = plt\n",
    "plot_test.scatter(X1_train, y1_train, color='red', s = 15)\n",
    "plot_test.plot(X1_train, y1_predicted_train, color='blue', linewidth =3)\n",
    "plot_test.title('# of Shares Traded vs Closing Price (Training Set)', fontsize = 10, fontweight = 'bold')\n",
    "plot_test.xlabel('Volume', fontsize = 10, fontweight = 'bold')\n",
    "x_ticks = np.arange(0, 300, 50)\n",
    "plot_test.ylabel('Closing Price', fontsize = 10, fontweight = 'bold')\n",
    "plot_test.show()"
   ]
  },
  {
   "cell_type": "code",
   "execution_count": 43,
   "id": "df1cb276",
   "metadata": {},
   "outputs": [],
   "source": [
    "# This linear regression model is about 27% effective for my training set, not too much a difference from my testing set"
   ]
  }
 ],
 "metadata": {
  "kernelspec": {
   "display_name": "Python 3 (ipykernel)",
   "language": "python",
   "name": "python3"
  },
  "language_info": {
   "codemirror_mode": {
    "name": "ipython",
    "version": 3
   },
   "file_extension": ".py",
   "mimetype": "text/x-python",
   "name": "python",
   "nbconvert_exporter": "python",
   "pygments_lexer": "ipython3",
   "version": "3.9.7"
  }
 },
 "nbformat": 4,
 "nbformat_minor": 5
}
